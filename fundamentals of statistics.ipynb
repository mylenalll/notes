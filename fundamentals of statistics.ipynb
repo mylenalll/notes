{
 "cells": [
  {
   "cell_type": "markdown",
   "id": "5fc13ae7",
   "metadata": {},
   "source": [
    "# Table of contents\n",
    "1. [Classification of statistical methods](#classification)\n",
    "2. [Similarities and differences research](#sdr)\n",
    "3. [Dependency research](#qwerty)\n",
    "    1. [Analysis of variance](#anova)\n",
    "    2. [Regression Analysis](#regr)\n",
    "        1. [General linear models](#generallinearmodels_regr)\n",
    "            1. [Linear regression](#lin_regr)\n",
    "        2. [Generalized linear models](#glm_regr)\n",
    "            1. [Binomial logit regression](#logit_regr)\n",
    "            2. [Probit regression](#probit_regr)\n",
    "            3. [Multinomial regression](#multi_regr)"
   ]
  },
  {
   "cell_type": "markdown",
   "id": "6cda59f1",
   "metadata": {},
   "source": [
    "# Types of variables"
   ]
  },
  {
   "cell_type": "markdown",
   "id": "6169d7f3",
   "metadata": {},
   "source": [
    "* **Количественные данные**\n",
    "    + непрерывные (рост)\n",
    "    + дискретные (количество детей в семье)\n",
    "\n",
    "* **Категориальные данные**\n",
    "    + номинативные (пол, класс путешествия) используются как имена групп\n",
    "    + ранговые (номера спортсменов по рейтингу)"
   ]
  },
  {
   "cell_type": "markdown",
   "id": "908ea532",
   "metadata": {},
   "source": [
    "# Types of samples"
   ]
  },
  {
   "cell_type": "markdown",
   "id": "6c1d1b82",
   "metadata": {},
   "source": [
    "* **Парные (зависимые, связанные) выборки / Depending samples, linked samples** – выборки, состоящие из одних и тех же объектов исследования, обследованных в разные моменты времени (например, до и после лечения).\n",
    "\n",
    "* **Независимые (несвязные) выборки** – выборки, в которые объекты исследования набирались независимо друг от друга. Например, если основная и контрольная группы при сравнении различных методов лечения формируются с помощью случайного выбора из некоторого набора пациентов"
   ]
  },
  {
   "cell_type": "markdown",
   "id": "87ec6766",
   "metadata": {},
   "source": [
    "# <p style=\"text-align: center;\"> Classification of statistical methods </p><a name=\"classification\"></a>\n"
   ]
  },
  {
   "cell_type": "markdown",
   "id": "f16fc961",
   "metadata": {},
   "source": [
    "Этапы анализа данных | Статистические методы исследования\n",
    ":------ | :------\n",
    "Описание данных   | Описательная статистика, определение необходимого объема выборки\n",
    "Изучение сходств и различий | **Статистические критерии:** Крамера-Уэлча, Велкоксона-Манна-Уитни, Хи-квадртат, Фишера и др.\n",
    "Исследование зависимостей | Корреляционный анализ, дисперсионный анализ, регрессионный анализ\n",
    "Снижение размерности | Факторый анализ, метод главных компонент\n",
    "Классификация и прогноз | Дискриминантный анализ, кластерный анализ, группировка"
   ]
  },
  {
   "cell_type": "markdown",
   "id": "e1b0a31c",
   "metadata": {},
   "source": [
    "Если **корреляционный и дисперсионный анализ** дают ответ на вопрос, существует ли взаимосвязь между переменными, то **регрессионный анализ** предназначен для того, чтобы найти «явный вид» этой зависимости\n",
    "\n",
    "**Дисперсионный анализ** – та же саммая **регрессия**, только без количественного предиктора."
   ]
  },
  {
   "cell_type": "markdown",
   "id": "81c64d44",
   "metadata": {},
   "source": [
    "# <p style=\"text-align: center;\"> Similarities and differences research </p><a name=\"sdr\"></a>"
   ]
  },
  {
   "cell_type": "markdown",
   "id": "924726e4",
   "metadata": {},
   "source": [
    "**Статистический критерий** – это правило, обеспечивающее принятие истинной и отклонение ложной гипотезы с высокой вероятностью. Статистические критерии обозначают также метод расчета определенного числа и само это число (эмпирическое значение критерия). \n",
    "\n",
    "По соотношению **эмпирического** и **критического** значений критерия мы можем судить о том, подтверждается ли или опровергается нулевая гипотеза. \n",
    "\n",
    "В большинстве случаев одно и то же эмпирическое значение критерия может оказаться значимым или незначимым в зависимости от количества наблюдений в исследуемой выборке (n) или от так называемого количества степеней свободы, которое обозначается как v или как df.\n",
    "\n",
    "**Число степеней свободы** v равно числу классов вариационного ряда минус число условий, при которых он был сформирован. К числу таких условий относятся объем выборки (n), средние и дисперсии. Зная n и/или число степеней свободы, мы по специальным таблицам можем определить критические значения критерия и сопоставить с ними полученное эмпирическое значение.\n",
    "\n",
    "Статистические критерии делятся на параметрические и непараметрические.\n",
    "\n",
    "**Параметрические критерии** – критерии, включающие в формулу расчета параметры распределения, то есть средние и дисперсии (t - критерий Стьюдента, критерий F и др.)\n",
    "\n",
    "**Непараметрические критерии** - критерии, не включающие в формулу расчета параметров распределения и основанные на оперировании частотами или рангами (критерий-Q Розенбаума, критерий-Т Вилкоксона и др.)\n",
    "\n",
    "В отличие от **параметрических** тестов, **непараметрические критерии** (тесты) позволяют исследовать данные без каких-либо допущений о характере распределения переменных. В непараметрических критериях обрабатываются не значения переменных, а их ранги или частоты."
   ]
  },
  {
   "cell_type": "markdown",
   "id": "956d5976",
   "metadata": {},
   "source": [
    "Параметрические критерии | Непараметрические критерии\n",
    ":------ | :------\n",
    "Позволяют прямо оценить различия в средних, полученных в двух выборках (t - критерий Стьюдента) | Позволяют оценить лишь средние тенденции, например, ответить на вопрос, чаще ли в выборке А встречаются более высокие, а в выборке Б - более низкие значения признака\n",
    "Позволяют прямо оценить различия в дисперсиях (критерий Фишера) | Позволяют оценить лишь различия в диапазонах вариативности признака (критерий φ*)\n",
    "Экспериментальные данные должны отвечать двум, а иногда трем, условиям: а) значения признака измерены по интервальной шкале; б) распределение признака является нормальным; | Экспериментальные данные могут не отвечать ни одному из этих условий: а) значения признака могут быть представлены в любой шкале, начиная от шкалы наименований; б) распределение признака может быть любым и совпадение его с каким-либо теоретическим законом распределения необязательно и не нуждается в проверке; в) требование равенства дисперсий отсутствует\n",
    "Математические расчеты довольно сложны | Математические расчеты по большей части просты и занимают мало времени (за исключением критериев χ2 и λ)"
   ]
  },
  {
   "cell_type": "markdown",
   "id": "bf56c6d4",
   "metadata": {},
   "source": [
    "![classification](classif.png)"
   ]
  },
  {
   "cell_type": "markdown",
   "id": "6efce8b5",
   "metadata": {},
   "source": [
    "![classification](anothercl.jpg)"
   ]
  },
  {
   "cell_type": "markdown",
   "id": "e8624470",
   "metadata": {},
   "source": [
    "![block-scheme classification](classif-block.png)"
   ]
  },
  {
   "cell_type": "markdown",
   "id": "0c048c4e",
   "metadata": {},
   "source": [
    "**Уровень значимости** – это вероятность того, что мы сочли различия существенными, а они на самом деле случайны.\n",
    "\n",
    "Когда мы указываем, что различия достоверны на 5%-ом уровне значимости, или при р<0,05, то мы имеем виду, что вероятность того, что они все-таки недостоверны, составляет 0,05.\n",
    "\n",
    "**Ошибка I рода** – мы отклонили нулевую гипотезу, в то время как она верна. Вероятность такой ошибки обычно обозначается как α или p.\n",
    "\n",
    "Если вероятность ошибки – это α, то **вероятность правильного решения 1 – α**. Чем меньше α, тем больше вероятность правильного решения.\n",
    "\n",
    "Исторически сложилось так, что принято считать низшим уровнем статистической значимости 5%-ый уровень (р<0,05): достаточным - 1%-ый уровень (р<0,01) и высшим 0,1%-ый уровень (р<0,001)"
   ]
  },
  {
   "cell_type": "markdown",
   "id": "a7b48319",
   "metadata": {},
   "source": [
    "**Мощность критерия** – это его способность выявлять различия, если они есть. Иными словами, это его способность отклонить нулевую гипотезу об отсутствии различий, если она неверна.\n",
    "\n",
    "**Ошибка II рода** – мы не отклонили нулевую гипотезу, в то время как она неверна. Вероятность такой ошибки обозначается как β. \n",
    "\n",
    "**Мощность = 1 – β**\n",
    "\n",
    "Мощность критерия определяется эмпирическим путем. Одни и те же задачи могут быть решены с помощью разных критериев, при этом обнаруживается, что некоторые критерии позволяют выявить различия там, где другие оказываются неспособными это сделать, или выявляют более высокий уровень значимости различий. Возникает вопрос: а зачем же тогда использовать менее мощные критерии?Сснованием для выбора критерия может быть не только мощность, но и другие его характеристики, а именно:\n",
    "* простота;\n",
    "* более широкий диапазон использования (например, по отношению к данным, определенным по номинативной шкале, или по отношению к большим n);\n",
    "* применимость по отношению к неравным по объему выборкам;\n",
    "* большая информативность результатов. "
   ]
  },
  {
   "cell_type": "markdown",
   "id": "861ca550",
   "metadata": {},
   "source": [
    "## 1 sample Student's t-test"
   ]
  },
  {
   "cell_type": "markdown",
   "id": "db008ccb",
   "metadata": {},
   "source": [
    "С помощью одновыборочного t-теста мы можем сравнить среднее значение данных с некоторым теоретическим значением. Н0 - в генеральной совокупности сранее равняется этому теоретическому значению"
   ]
  },
  {
   "cell_type": "markdown",
   "id": "7e026b66",
   "metadata": {},
   "source": [
    "## 2 independent samples Student's t-test"
   ]
  },
  {
   "cell_type": "markdown",
   "id": "0b1ec8cf",
   "metadata": {},
   "source": [
    "The **independent samples t-test** is used when two separate sets of independent and identically distributed samples are obtained, and one variable from each of the two populations is compared. For example, suppose we are evaluating the effect of a medical treatment, and we enroll 100 subjects into our study, then randomly assign 50 subjects to the treatment group and 50 subjects to the control group. In this case, we have two independent samples and would use the unpaired form of the t-test.\n",
    "\n",
    "**The null hypothesis of the two-sample** t-test is equal means."
   ]
  },
  {
   "cell_type": "markdown",
   "id": "7500ed28",
   "metadata": {},
   "source": [
    "### Assumptions\n",
    "\n",
    "* the two samples are independent of one another\n",
    "* the two populations have equal variance or spread\n",
    "* the two populations are normally distributed"
   ]
  },
  {
   "cell_type": "markdown",
   "id": "0b3b0223",
   "metadata": {},
   "source": [
    "значение t-критерия Стьюдента считается по формуле: \n",
    "![t-test formula](t-test.png)\n",
    "\n",
    "а затем ему (при соответствующих степенях свободы) сопоставляется p-value, и мы делаем вывод."
   ]
  },
  {
   "cell_type": "markdown",
   "id": "9696c4ca",
   "metadata": {},
   "source": [
    "перед использованием Student's t-test проверяем данные на нормальность через **Shapiro-Wilk test**"
   ]
  },
  {
   "cell_type": "code",
   "execution_count": 8,
   "id": "5b6cd4a0",
   "metadata": {},
   "outputs": [
    {
     "data": {
      "text/plain": [
       "ShapiroResult(statistic=0.9920364618301392, pvalue=0.8238601088523865)"
      ]
     },
     "execution_count": 8,
     "metadata": {},
     "output_type": "execute_result"
    }
   ],
   "source": [
    "from numpy.random import randn\n",
    "data = randn(100) #generate dataset of 100 random values that follow a standard normal distribution\n",
    "\n",
    "from scipy.stats import shapiro\n",
    "shapiro(data)\n",
    "\n",
    "# p-value = 0.6 > 0.5, зн нас нет достаточных доказательств, чтобы сказать, что данные выборки не получены из нормального распределения."
   ]
  },
  {
   "cell_type": "markdown",
   "id": "4c9dbc0b",
   "metadata": {},
   "source": [
    "также проверяем группы на гомогенность деспресий через **Bartlett Test of Homogeneity of Variances**"
   ]
  },
  {
   "cell_type": "code",
   "execution_count": 23,
   "id": "767ef6b3",
   "metadata": {},
   "outputs": [
    {
     "name": "stdout",
     "output_type": "stream",
     "text": [
      "0.850807251302054\n",
      "1.7849388644272466\n"
     ]
    },
    {
     "data": {
      "text/plain": [
       "BartlettResult(statistic=1.14443401243795, pvalue=0.28471734424861633)"
      ]
     },
     "execution_count": 23,
     "metadata": {},
     "output_type": "execute_result"
    }
   ],
   "source": [
    "from scipy.stats import bartlett\n",
    "import numpy as np\n",
    "\n",
    "data1 = randn(10)\n",
    "print(np.var(data1))\n",
    "data2 = randn(10)\n",
    "print(np.var(data2))\n",
    "bartlett(data1, data2)"
   ]
  },
  {
   "cell_type": "markdown",
   "id": "157ea59b",
   "metadata": {},
   "source": [
    "теперь можно применять t-тест"
   ]
  },
  {
   "cell_type": "code",
   "execution_count": 25,
   "id": "45ecc58c",
   "metadata": {},
   "outputs": [
    {
     "data": {
      "text/plain": [
       "Ttest_indResult(statistic=-0.008062459164599158, pvalue=0.993655844100832)"
      ]
     },
     "execution_count": 25,
     "metadata": {},
     "output_type": "execute_result"
    }
   ],
   "source": [
    "from scipy import stats\n",
    "stats.ttest_ind(data1, data2, equal_var = True) "
   ]
  },
  {
   "cell_type": "markdown",
   "id": "4e53260c",
   "metadata": {},
   "source": [
    "## Wilcoxon Rank Sum Test"
   ]
  },
  {
   "cell_type": "markdown",
   "id": "ced0455d",
   "metadata": {},
   "source": [
    "— the non-parametric version of the two-sample t-test. When our samples are small and our data skew or non-normal, we probably shouldn’t place much faith in the two-sample t-test.\n",
    "\n",
    "The **null hypothesis** of the Wilcoxon test is usually taken as equal medians\n",
    "\n",
    "### Assumptioins\n",
    "* two samples are independent of one another\n",
    "* two populations have equal variance or spread"
   ]
  },
  {
   "cell_type": "code",
   "execution_count": 26,
   "id": "fac7ce64",
   "metadata": {},
   "outputs": [],
   "source": [
    "from scipy.stats import ranksums\n",
    "ranksums(sample1, sample2)"
   ]
  },
  {
   "cell_type": "markdown",
   "id": "472cbd2a",
   "metadata": {},
   "source": [
    "# <p style=\"text-align: center;\"> Dependency research </p><a name=\"qwerty\"></a>"
   ]
  },
  {
   "cell_type": "markdown",
   "id": "7a81582d",
   "metadata": {},
   "source": [
    "## Analysis of variance <a name=\"anova\"></a>"
   ]
  },
  {
   "cell_type": "markdown",
   "id": "3a650cc6",
   "metadata": {},
   "source": [
    "— **дисперсионный анализ**, метод, направленный на поиск зависимостей в данных путём исследования значимости различий в средних значениях. Это основной инструмент для сравнения нескольких групп."
   ]
  },
  {
   "cell_type": "code",
   "execution_count": 2,
   "id": "aec7f124",
   "metadata": {},
   "outputs": [
    {
     "ename": "ModuleNotFoundError",
     "evalue": "No module named 'bioinfokit'",
     "output_type": "error",
     "traceback": [
      "\u001b[1;31m---------------------------------------------------------------------------\u001b[0m",
      "\u001b[1;31mModuleNotFoundError\u001b[0m                       Traceback (most recent call last)",
      "Input \u001b[1;32mIn [2]\u001b[0m, in \u001b[0;36m<cell line: 4>\u001b[1;34m()\u001b[0m\n\u001b[0;32m      2\u001b[0m \u001b[38;5;28;01mfrom\u001b[39;00m \u001b[38;5;21;01mmatplotlib\u001b[39;00m \u001b[38;5;28;01mimport\u001b[39;00m pyplot \u001b[38;5;28;01mas\u001b[39;00m plt\n\u001b[0;32m      3\u001b[0m \u001b[38;5;28;01mimport\u001b[39;00m \u001b[38;5;21;01mseaborn\u001b[39;00m \u001b[38;5;28;01mas\u001b[39;00m \u001b[38;5;21;01msns\u001b[39;00m\n\u001b[1;32m----> 4\u001b[0m \u001b[38;5;28;01mfrom\u001b[39;00m \u001b[38;5;21;01mbioinfokit\u001b[39;00m\u001b[38;5;21;01m.\u001b[39;00m\u001b[38;5;21;01manalys\u001b[39;00m \u001b[38;5;28;01mimport\u001b[39;00m stat\n\u001b[0;32m      6\u001b[0m df \u001b[38;5;241m=\u001b[39m pd\u001b[38;5;241m.\u001b[39mDataFrame(pd\u001b[38;5;241m.\u001b[39mread_csv(\u001b[38;5;124m'\u001b[39m\u001b[38;5;124mhttps://stepic.org/media/attachments/lesson/11505/shops.csv\u001b[39m\u001b[38;5;124m'\u001b[39m))\n\u001b[0;32m      8\u001b[0m sns\u001b[38;5;241m.\u001b[39mboxplot(data\u001b[38;5;241m=\u001b[39mdf, y\u001b[38;5;241m=\u001b[39m\u001b[38;5;124m'\u001b[39m\u001b[38;5;124mprice\u001b[39m\u001b[38;5;124m'\u001b[39m, x\u001b[38;5;241m=\u001b[39m\u001b[38;5;124m'\u001b[39m\u001b[38;5;124morigin\u001b[39m\u001b[38;5;124m'\u001b[39m, order\u001b[38;5;241m=\u001b[39m[\u001b[38;5;124m'\u001b[39m\u001b[38;5;124mimport\u001b[39m\u001b[38;5;124m'\u001b[39m, \u001b[38;5;124m'\u001b[39m\u001b[38;5;124mrussia\u001b[39m\u001b[38;5;124m'\u001b[39m])\n",
      "\u001b[1;31mModuleNotFoundError\u001b[0m: No module named 'bioinfokit'"
     ]
    }
   ],
   "source": [
    "import pandas as pd\n",
    "from matplotlib import pyplot as plt\n",
    "import seaborn as sns\n",
    "from bioinfokit.analys import stat\n",
    "\n",
    "df = pd.DataFrame(pd.read_csv('https://stepic.org/media/attachments/lesson/11505/shops.csv'))\n",
    "\n",
    "sns.boxplot(data=df, y='price', x='origin', order=['import', 'russia'])\n",
    "plt.show()\n",
    "\n",
    "res = stat()\n",
    "res.anova_stat(df=df, res_var='price', anova_model='price ~ origin')\n",
    "print(res.anova_summary)"
   ]
  },
  {
   "cell_type": "markdown",
   "id": "e3b782d7",
   "metadata": {},
   "source": [
    "## Regression analysis <a name=\"regr\"></a>"
   ]
  },
  {
   "cell_type": "markdown",
   "id": "0219dc1a",
   "metadata": {},
   "source": [
    "**Отображение f** – закон, по которому каждому элементу а из множества А сопоставляется единственный b из множества B.\n",
    "b = f(a)\n",
    "\n",
    "**Регрессионная модель** – класс функций, которые описывают некоторую закономерность.\n",
    "\n",
    "Регрессионная модель f(W, X) - это семейство функций, задающее отображение\n",
    "f : W x X --> Y\n",
    "W - параметры\n",
    "X - независимые переменные\n",
    "Y - зависимые переменные \n",
    "\n",
    "**Регрессионный анализ** – набор статистических методов исследования влияния одной или нескольких независимых переменных (регрессоров/предикторов) на зависимую переменную (критериальную)."
   ]
  },
  {
   "cell_type": "markdown",
   "id": "d8060dce",
   "metadata": {},
   "source": [
    "### General linear models <a name=\"generallinearmodels_regr\"></a>"
   ]
  },
  {
   "cell_type": "markdown",
   "id": "1b19b07b",
   "metadata": {},
   "source": [
    "— **общие линейные модели** позволяют моделировать зависимости только для нормально-распределенных величин. Если же отклик модели (зависимая переменная) подчиняется другому распределению, эти модели не годятся."
   ]
  },
  {
   "cell_type": "markdown",
   "id": "03b7bcc0",
   "metadata": {},
   "source": [
    "### Linear Regression <a name=\"lin_regr\"></a>"
   ]
  },
  {
   "cell_type": "markdown",
   "id": "ffaac302",
   "metadata": {},
   "source": [
    "### Assumptions\n",
    "\n",
    "* linearity between dependent and independent variables (X and Y)\n",
    "\n",
    "* normal distribution of residuals \n",
    "\n",
    "в случае линейной взаимосвязи распределение остатков будет стремиться к нормальному со средним значением, приблизительно равным 0.\n",
    "\n",
    "линия регрессии должна занимать промежуточное положение межу положительными и отрицательными остатками. если наблюдения сначаламало отклоняются от прямой, а затем сильно, то такая ситуация не подходит\n",
    "\n",
    "* homoscedasticity of residuals\n",
    "\n",
    "постоянная изменчивость остатков на всех уровнях независимой переменной"
   ]
  },
  {
   "cell_type": "markdown",
   "id": "d4feaaff",
   "metadata": {},
   "source": [
    "### Generalized linear models GLM <a name=\"glm_regr\"></a>"
   ]
  },
  {
   "cell_type": "markdown",
   "id": "8fb39b9a",
   "metadata": {},
   "source": [
    "Более сложные регрессионные модели применяются в тех случаях, когда диагностика показала несостоятельность простых регрессионных моделей. Вот несколько наиболее распространенных случаев, когда применяются сложные регрессионные модели:\n",
    "1. Нелинейность модели\n",
    "2. Ненормальное распределение остатков\n",
    "3. Неодинаковое распределение остатков\n",
    "4. Зависимость остатков\n",
    "5. Зависимая переменная не подчиняется нормальному распределению.\n",
    "\n",
    "**Generalized linear models** – совокупность регрессионных моделей, распределения которых описываются по другим законам (т.е. не являются нормальными)"
   ]
  },
  {
   "cell_type": "code",
   "execution_count": 1,
   "id": "a36fe66e",
   "metadata": {},
   "outputs": [],
   "source": [
    "import pandas as pd\n",
    "import seaborn as sns\n",
    "import matplotlib.pyplot as plt\n",
    "\n",
    "import statsmodels.api as sm\n",
    "import statsmodels.formula.api as sf\n",
    "# две версии statsmodels из-за того, как применяется\n",
    "\n",
    "import numpy as np"
   ]
  },
  {
   "cell_type": "markdown",
   "id": "3ef81528",
   "metadata": {},
   "source": [
    "### Биномиальная логистическая регрессия <a name=\"logit_regr\"></a>"
   ]
  },
  {
   "cell_type": "markdown",
   "id": "1800f198",
   "metadata": {},
   "source": [
    "* **Имя распределения** – Бернулли (биномиальное с $n$ = 1)\n",
    "* **Разброс значений ЗП** – (0, 1)\n",
    "* **Параметры** – $p$ (вероятность успеха), $n$ (количество попыток)\n",
    "* **Типичная функция связи** – логит"
   ]
  },
  {
   "cell_type": "markdown",
   "id": "ae6cfb3c",
   "metadata": {},
   "source": [
    "С помощью **бинарной логистической регрессии** можно исследовать зависимость бинарных переменных (имеющих лишь два возможных значения) от независимых переменных (предикторов) , имеющих любой вид шкалы.\n",
    "\n",
    "Как правило, в случае с дихотомическими переменными речь идёт о некотором событии, которое может произойти или не произойти; бинарная логистическая регрессия в таком случае рассчитывает вероятность наступления события в зависимости от значений независимых переменных."
   ]
  },
  {
   "cell_type": "markdown",
   "id": "0e906d8e",
   "metadata": {},
   "source": [
    "**Логит** – функция связи логистической регрессии. Принимает значения от 0 до 1, тем самым исправляя недостаток линейной модели.\n",
    "\n",
    "$$ p = ln (\\frac{q}{1-q}) $$ "
   ]
  },
  {
   "cell_type": "code",
   "execution_count": 2,
   "id": "6d7dde29",
   "metadata": {},
   "outputs": [],
   "source": [
    "titanic = pd.read_csv(\"titanik_full_data (1).csv\", sep = '\\t')"
   ]
  },
  {
   "cell_type": "code",
   "execution_count": 3,
   "id": "88f027ba",
   "metadata": {},
   "outputs": [
    {
     "data": {
      "text/plain": [
       "Text(0.5, 1.0, 'Судьба пассажиров Титаника')"
      ]
     },
     "execution_count": 3,
     "metadata": {},
     "output_type": "execute_result"
    },
    {
     "data": {
      "image/png": "[encoded data removed]",
      "text/plain": [
       "<Figure size 432x288 with 1 Axes>"
      ]
     },
     "metadata": {
      "needs_background": "light"
     },
     "output_type": "display_data"
    }
   ],
   "source": [
    "sns.countplot(x = 'Survived', data = titanic) # return matplotlib Axes object with the plot drawn onto it\n",
    "# x – name of variable in data\n",
    "# data – dataset for plotting\n",
    "plt.xlabel('Выжил ли пассажир')\n",
    "plt.ylabel('Количество')\n",
    "plt.title('Судьба пассажиров Титаника')"
   ]
  },
  {
   "cell_type": "markdown",
   "id": "66190e6d",
   "metadata": {},
   "source": [
    "Посмотрели – данные бинарные и количеством отличаются друг от друга. Теперь мы хотим узнать, какие независимые переменные лучше всего предсказывают, погиб человек или не погиб. Применим логистическую регрессию.\n",
    "\n",
    "Используем функцию **glm** из библиотеки **statsmodels.formula.api**."
   ]
  },
  {
   "cell_type": "markdown",
   "id": "57b571c7",
   "metadata": {},
   "source": [
    "Параметр | Тип | Смысл\n",
    ":------ | :------| :------\n",
    "**formula** | str or generic Formula object | формула, с помощью которой мы пытаемся предсказывать. ЗП ~ НП. с помощью С() мы указываем категориальные переменные в формуле\n",
    "**data** | array_like | датасет\n",
    "**family** | family class instance | указываем семейство распределений из библиотеки **statsmodels.api**"
   ]
  },
  {
   "cell_type": "markdown",
   "id": "fe81e4bc",
   "metadata": {},
   "source": [
    "**fit()** нужен, чтобы модель построилась. это обучение (тренировка) модели на обучающей выборке. модель пытается найти какие-то взаимосвязи или настроить коэффициенты."
   ]
  },
  {
   "cell_type": "code",
   "execution_count": 4,
   "id": "5d71f3c1",
   "metadata": {},
   "outputs": [
    {
     "data": {
      "text/html": [
       "<table class=\"simpletable\">\n",
       "<caption>Generalized Linear Model Regression Results</caption>\n",
       "<tr>\n",
       "  <th>Dep. Variable:</th>       <td>Survived</td>     <th>  No. Observations:  </th>  <td>  1046</td> \n",
       "</tr>\n",
       "<tr>\n",
       "  <th>Model:</th>                  <td>GLM</td>       <th>  Df Residuals:      </th>  <td>  1041</td> \n",
       "</tr>\n",
       "<tr>\n",
       "  <th>Model Family:</th>        <td>Binomial</td>     <th>  Df Model:          </th>  <td>     4</td> \n",
       "</tr>\n",
       "<tr>\n",
       "  <th>Link Function:</th>         <td>Logit</td>      <th>  Scale:             </th> <td>  1.0000</td>\n",
       "</tr>\n",
       "<tr>\n",
       "  <th>Method:</th>                <td>IRLS</td>       <th>  Log-Likelihood:    </th> <td> -398.21</td>\n",
       "</tr>\n",
       "<tr>\n",
       "  <th>Date:</th>            <td>Sun, 04 Dec 2022</td> <th>  Deviance:          </th> <td>  796.42</td>\n",
       "</tr>\n",
       "<tr>\n",
       "  <th>Time:</th>                <td>20:19:27</td>     <th>  Pearson chi2:      </th> <td>1.10e+03</td>\n",
       "</tr>\n",
       "<tr>\n",
       "  <th>No. Iterations:</th>          <td>5</td>        <th>  Pseudo R-squ. (CS):</th>  <td>0.4421</td> \n",
       "</tr>\n",
       "<tr>\n",
       "  <th>Covariance Type:</th>     <td>nonrobust</td>    <th>                     </th>     <td> </td>   \n",
       "</tr>\n",
       "</table>\n",
       "<table class=\"simpletable\">\n",
       "<tr>\n",
       "         <td></td>           <th>coef</th>     <th>std err</th>      <th>z</th>      <th>P>|z|</th>  <th>[0.025</th>    <th>0.975]</th>  \n",
       "</tr>\n",
       "<tr>\n",
       "  <th>Intercept</th>      <td>    3.9568</td> <td>    0.372</td> <td>   10.641</td> <td> 0.000</td> <td>    3.228</td> <td>    4.686</td>\n",
       "</tr>\n",
       "<tr>\n",
       "  <th>C(Pclass)[T.2]</th> <td>   -1.2370</td> <td>    0.256</td> <td>   -4.833</td> <td> 0.000</td> <td>   -1.739</td> <td>   -0.735</td>\n",
       "</tr>\n",
       "<tr>\n",
       "  <th>C(Pclass)[T.3]</th> <td>   -2.2390</td> <td>    0.256</td> <td>   -8.759</td> <td> 0.000</td> <td>   -2.740</td> <td>   -1.738</td>\n",
       "</tr>\n",
       "<tr>\n",
       "  <th>C(Sex)[T.male]</th> <td>   -3.5601</td> <td>    0.196</td> <td>  -18.158</td> <td> 0.000</td> <td>   -3.944</td> <td>   -3.176</td>\n",
       "</tr>\n",
       "<tr>\n",
       "  <th>Age</th>            <td>   -0.0313</td> <td>    0.007</td> <td>   -4.407</td> <td> 0.000</td> <td>   -0.045</td> <td>   -0.017</td>\n",
       "</tr>\n",
       "</table>"
      ],
      "text/plain": [
       "<class 'statsmodels.iolib.summary.Summary'>\n",
       "\"\"\"\n",
       "                 Generalized Linear Model Regression Results                  \n",
       "==============================================================================\n",
       "Dep. Variable:               Survived   No. Observations:                 1046\n",
       "Model:                            GLM   Df Residuals:                     1041\n",
       "Model Family:                Binomial   Df Model:                            4\n",
       "Link Function:                  Logit   Scale:                          1.0000\n",
       "Method:                          IRLS   Log-Likelihood:                -398.21\n",
       "Date:                Sun, 04 Dec 2022   Deviance:                       796.42\n",
       "Time:                        20:19:27   Pearson chi2:                 1.10e+03\n",
       "No. Iterations:                     5   Pseudo R-squ. (CS):             0.4421\n",
       "Covariance Type:            nonrobust                                         \n",
       "==================================================================================\n",
       "                     coef    std err          z      P>|z|      [0.025      0.975]\n",
       "----------------------------------------------------------------------------------\n",
       "Intercept          3.9568      0.372     10.641      0.000       3.228       4.686\n",
       "C(Pclass)[T.2]    -1.2370      0.256     -4.833      0.000      -1.739      -0.735\n",
       "C(Pclass)[T.3]    -2.2390      0.256     -8.759      0.000      -2.740      -1.738\n",
       "C(Sex)[T.male]    -3.5601      0.196    -18.158      0.000      -3.944      -3.176\n",
       "Age               -0.0313      0.007     -4.407      0.000      -0.045      -0.017\n",
       "==================================================================================\n",
       "\"\"\""
      ]
     },
     "execution_count": 4,
     "metadata": {},
     "output_type": "execute_result"
    }
   ],
   "source": [
    "logit_res = sf.glm('Survived ~ C(Pclass) + C(Sex) + Age', titanic, family = sm.families.Binomial()).fit()\n",
    "logit_res.summary()"
   ]
  },
  {
   "cell_type": "markdown",
   "id": "9e23a4db",
   "metadata": {},
   "source": [
    "`Log Likelihood` value is a measure of goodness of fit for any model. Higher the value, better is the model. We should remember that Log Likelihood can lie between -Inf to +Inf. Hence, the absolute look at the value cannot give any indication. We can only compare the Log Likelihood values between multiple models.\n",
    "\n",
    "`Intercept` - шансы выжить (логарифмические) для женщины в первом классе, которой 0 лет. "
   ]
  },
  {
   "cell_type": "markdown",
   "id": "ee2be6f9",
   "metadata": {},
   "source": [
    "* Судя по столбцу P>|z|, все коэффициенты оказывает статистически значимое влияние на выживаемость людей.\n",
    "* Коэффициент по полу указан только для мужчин, имеется в виду относительно женщин. Соответственно, у мужчин значительно меньше шансев выжить (-3.5601), чем у женщин.\n",
    "* Судя по коэффициентам Pclass, у 2-го класса мешьше шансев выжить, чем у 1-го, а у 3-го еще меньше\n",
    "* За каждую единицу возраста шансы выжить падают (отрицательный коэффициент -0.0313)"
   ]
  },
  {
   "cell_type": "markdown",
   "id": "e4831ce5",
   "metadata": {},
   "source": [
    "### Probit regression <a name=\"probit_regr\"></a>"
   ]
  },
  {
   "cell_type": "markdown",
   "id": "55676efc",
   "metadata": {},
   "source": [
    "* пробит-регрессия преобразует вероятности в стандартное нормальное распределение\n",
    "* используел для этого обратную функцию кумулятивного стандартного нормального распределения, т.е. берет на вход вероятности и превращает их в z-значения.\n",
    "\n",
    "В общем случае **пробит анализ** подходит для запланированных экспериментов, а **логистическая регрессия** - для обработки результатов наблюдений. Различия в выводе отображают эти особенности применения. Процедура **пробит анализа** сообщает оценки эффективных значений для различных уровней отклика (в том числе эффективную медианную дозу), а процедура **логистической регресси**и выводит оценки отношений шансов для независимых переменных.\n",
    "\n",
    "На деле **пробит-регрессия** и **логистическая регрессия** на деле дают примерно идентичный результат. Основная причина использования probit-регрессии в желании сделать распределение нормальным."
   ]
  },
  {
   "cell_type": "markdown",
   "id": "af7d9c7e",
   "metadata": {},
   "source": [
    "### Мультиномиальная логистическая регрессия <a name=\"multi_regr\"></a>"
   ]
  },
  {
   "cell_type": "markdown",
   "id": "7412ae8a",
   "metadata": {},
   "source": [
    "— используется для работы с номинативными данными с 3-мя категорями и больше. Вероятность нужно рассчитывать для каждой категории отдельно.\n",
    "\n",
    "* Имя распределения - мультиномиальное\n",
    "* Разброс значений - (1...$n$)\n",
    "* Параметры - $p_1$...$p_n$ (вероятность каждого события), $n$ (количество попыток)\n",
    "* Типичная функция связи - мультиномиальный логит"
   ]
  },
  {
   "cell_type": "code",
   "execution_count": 5,
   "id": "e02e9e1c",
   "metadata": {},
   "outputs": [
    {
     "data": {
      "text/plain": [
       "Text(0.5, 1.0, 'Пассажирские классы')"
      ]
     },
     "execution_count": 5,
     "metadata": {},
     "output_type": "execute_result"
    },
    {
     "data": {
      "image/png": "[encoded data removed]",
      "text/plain": [
       "<Figure size 432x288 with 1 Axes>"
      ]
     },
     "metadata": {
      "needs_background": "light"
     },
     "output_type": "display_data"
    }
   ],
   "source": [
    "sns.countplot(x = 'Pclass', data = titanic)\n",
    "plt.xlabel('Класс')\n",
    "plt.ylabel('Количество')\n",
    "plt.title('Пассажирские классы')"
   ]
  },
  {
   "cell_type": "markdown",
   "id": "2820b6a3",
   "metadata": {},
   "source": [
    "Функция **glm** не поддерживает мультиномиальную модель, поэтому делаем с помощью отдельной функции **mnlogit** библиотеки **statsmodels.formula.api**"
   ]
  },
  {
   "cell_type": "code",
   "execution_count": 6,
   "id": "7f7c360f",
   "metadata": {},
   "outputs": [
    {
     "name": "stdout",
     "output_type": "stream",
     "text": [
      "Optimization terminated successfully.\n",
      "         Current function value: 0.944697\n",
      "         Iterations 5\n"
     ]
    },
    {
     "data": {
      "text/html": [
       "<table class=\"simpletable\">\n",
       "<caption>MNLogit Regression Results</caption>\n",
       "<tr>\n",
       "  <th>Dep. Variable:</th>        <td>Pclass</td>      <th>  No. Observations:  </th>  <td>  1046</td>  \n",
       "</tr>\n",
       "<tr>\n",
       "  <th>Model:</th>                <td>MNLogit</td>     <th>  Df Residuals:      </th>  <td>  1040</td>  \n",
       "</tr>\n",
       "<tr>\n",
       "  <th>Method:</th>                 <td>MLE</td>       <th>  Df Model:          </th>  <td>     4</td>  \n",
       "</tr>\n",
       "<tr>\n",
       "  <th>Date:</th>            <td>Sun, 04 Dec 2022</td> <th>  Pseudo R-squ.:     </th>  <td>0.1028</td>  \n",
       "</tr>\n",
       "<tr>\n",
       "  <th>Time:</th>                <td>20:19:28</td>     <th>  Log-Likelihood:    </th> <td> -988.15</td> \n",
       "</tr>\n",
       "<tr>\n",
       "  <th>converged:</th>             <td>True</td>       <th>  LL-Null:           </th> <td> -1101.4</td> \n",
       "</tr>\n",
       "<tr>\n",
       "  <th>Covariance Type:</th>     <td>nonrobust</td>    <th>  LLR p-value:       </th> <td>7.608e-48</td>\n",
       "</tr>\n",
       "</table>\n",
       "<table class=\"simpletable\">\n",
       "<tr>\n",
       "     <th>Pclass=2</th>       <th>coef</th>     <th>std err</th>      <th>z</th>      <th>P>|z|</th>  <th>[0.025</th>    <th>0.975]</th>  \n",
       "</tr>\n",
       "<tr>\n",
       "  <th>Intercept</th>      <td>    1.4181</td> <td>    0.253</td> <td>    5.611</td> <td> 0.000</td> <td>    0.923</td> <td>    1.913</td>\n",
       "</tr>\n",
       "<tr>\n",
       "  <th>C(Sex)[T.male]</th> <td>    0.4934</td> <td>    0.183</td> <td>    2.691</td> <td> 0.007</td> <td>    0.134</td> <td>    0.853</td>\n",
       "</tr>\n",
       "<tr>\n",
       "  <th>Age</th>            <td>   -0.0522</td> <td>    0.007</td> <td>   -7.728</td> <td> 0.000</td> <td>   -0.065</td> <td>   -0.039</td>\n",
       "</tr>\n",
       "<tr>\n",
       "     <th>Pclass=3</th>       <th>coef</th>     <th>std err</th>      <th>z</th>      <th>P>|z|</th>  <th>[0.025</th>    <th>0.975]</th>  \n",
       "</tr>\n",
       "<tr>\n",
       "  <th>Intercept</th>      <td>    2.6021</td> <td>    0.239</td> <td>   10.900</td> <td> 0.000</td> <td>    2.134</td> <td>    3.070</td>\n",
       "</tr>\n",
       "<tr>\n",
       "  <th>C(Sex)[T.male]</th> <td>    1.0119</td> <td>    0.174</td> <td>    5.824</td> <td> 0.000</td> <td>    0.671</td> <td>    1.352</td>\n",
       "</tr>\n",
       "<tr>\n",
       "  <th>Age</th>            <td>   -0.0843</td> <td>    0.007</td> <td>  -12.514</td> <td> 0.000</td> <td>   -0.098</td> <td>   -0.071</td>\n",
       "</tr>\n",
       "</table>"
      ],
      "text/plain": [
       "<class 'statsmodels.iolib.summary.Summary'>\n",
       "\"\"\"\n",
       "                          MNLogit Regression Results                          \n",
       "==============================================================================\n",
       "Dep. Variable:                 Pclass   No. Observations:                 1046\n",
       "Model:                        MNLogit   Df Residuals:                     1040\n",
       "Method:                           MLE   Df Model:                            4\n",
       "Date:                Sun, 04 Dec 2022   Pseudo R-squ.:                  0.1028\n",
       "Time:                        20:19:28   Log-Likelihood:                -988.15\n",
       "converged:                       True   LL-Null:                       -1101.4\n",
       "Covariance Type:            nonrobust   LLR p-value:                 7.608e-48\n",
       "==================================================================================\n",
       "      Pclass=2       coef    std err          z      P>|z|      [0.025      0.975]\n",
       "----------------------------------------------------------------------------------\n",
       "Intercept          1.4181      0.253      5.611      0.000       0.923       1.913\n",
       "C(Sex)[T.male]     0.4934      0.183      2.691      0.007       0.134       0.853\n",
       "Age               -0.0522      0.007     -7.728      0.000      -0.065      -0.039\n",
       "----------------------------------------------------------------------------------\n",
       "      Pclass=3       coef    std err          z      P>|z|      [0.025      0.975]\n",
       "----------------------------------------------------------------------------------\n",
       "Intercept          2.6021      0.239     10.900      0.000       2.134       3.070\n",
       "C(Sex)[T.male]     1.0119      0.174      5.824      0.000       0.671       1.352\n",
       "Age               -0.0843      0.007    -12.514      0.000      -0.098      -0.071\n",
       "==================================================================================\n",
       "\"\"\""
      ]
     },
     "execution_count": 6,
     "metadata": {},
     "output_type": "execute_result"
    }
   ],
   "source": [
    "multi_res = sf.mnlogit('Pclass ~ C(Sex) + Age', titanic).fit()\n",
    "multi_res.summary()"
   ]
  },
  {
   "cell_type": "markdown",
   "id": "6d08d87e",
   "metadata": {},
   "source": [
    "##### первого класса нет, т.к. все коэффициенты первого класса являются референтной категорией. мы заведомо считаем изменение шансев относительно первого класса.\n",
    "\n",
    "#####  для мужчин шансы попасть во второй класс выше, чем в первый (положительный коэффициент в Pckass = 2 T.male). и шансы попасть в третий класс еще выше, чем в первый\n",
    "\n",
    "##### для возраста наоборот - кто постарше, тот с большей вероятностью попадает в первый класс."
   ]
  },
  {
   "cell_type": "markdown",
   "id": "748eb7bb",
   "metadata": {},
   "source": [
    "логистическая регрессия с несколькими предикторами.\n",
    "\n",
    "предикторы - независимые переменные. мультиномиальная регрессия = зависимые переменные с несколькими категориями.\n",
    "\n",
    "с несколькими предикторами может быть и логистическая регрессия."
   ]
  },
  {
   "cell_type": "markdown",
   "id": "414a72fd",
   "metadata": {},
   "source": [
    "# Порядковая регрессия"
   ]
  },
  {
   "cell_type": "code",
   "execution_count": 7,
   "id": "b47dd2ed",
   "metadata": {},
   "outputs": [],
   "source": [
    "from bevel.linear_ordinal_regression import OrderedLogit"
   ]
  },
  {
   "cell_type": "code",
   "execution_count": 8,
   "id": "a2c5b432",
   "metadata": {},
   "outputs": [
    {
     "data": {
      "text/html": [
       "<div>\n",
       "<style scoped>\n",
       "    .dataframe tbody tr th:only-of-type {\n",
       "        vertical-align: middle;\n",
       "    }\n",
       "\n",
       "    .dataframe tbody tr th {\n",
       "        vertical-align: top;\n",
       "    }\n",
       "\n",
       "    .dataframe thead th {\n",
       "        text-align: right;\n",
       "    }\n",
       "</style>\n",
       "<table border=\"1\" class=\"dataframe\">\n",
       "  <thead>\n",
       "    <tr style=\"text-align: right;\">\n",
       "      <th></th>\n",
       "      <th>fixed acidity</th>\n",
       "      <th>volatile acidity</th>\n",
       "      <th>citric acid</th>\n",
       "      <th>residual sugar</th>\n",
       "      <th>chlorides</th>\n",
       "      <th>free sulfur dioxide</th>\n",
       "      <th>total sulfur dioxide</th>\n",
       "      <th>density</th>\n",
       "      <th>pH</th>\n",
       "      <th>sulphates</th>\n",
       "      <th>alcohol</th>\n",
       "      <th>quality</th>\n",
       "    </tr>\n",
       "  </thead>\n",
       "  <tbody>\n",
       "    <tr>\n",
       "      <th>0</th>\n",
       "      <td>7.4</td>\n",
       "      <td>0.70</td>\n",
       "      <td>0.00</td>\n",
       "      <td>1.9</td>\n",
       "      <td>0.076</td>\n",
       "      <td>11.0</td>\n",
       "      <td>34.0</td>\n",
       "      <td>0.9978</td>\n",
       "      <td>3.51</td>\n",
       "      <td>0.56</td>\n",
       "      <td>9.4</td>\n",
       "      <td>5</td>\n",
       "    </tr>\n",
       "    <tr>\n",
       "      <th>1</th>\n",
       "      <td>7.8</td>\n",
       "      <td>0.88</td>\n",
       "      <td>0.00</td>\n",
       "      <td>2.6</td>\n",
       "      <td>0.098</td>\n",
       "      <td>25.0</td>\n",
       "      <td>67.0</td>\n",
       "      <td>0.9968</td>\n",
       "      <td>3.20</td>\n",
       "      <td>0.68</td>\n",
       "      <td>9.8</td>\n",
       "      <td>5</td>\n",
       "    </tr>\n",
       "    <tr>\n",
       "      <th>2</th>\n",
       "      <td>7.8</td>\n",
       "      <td>0.76</td>\n",
       "      <td>0.04</td>\n",
       "      <td>2.3</td>\n",
       "      <td>0.092</td>\n",
       "      <td>15.0</td>\n",
       "      <td>54.0</td>\n",
       "      <td>0.9970</td>\n",
       "      <td>3.26</td>\n",
       "      <td>0.65</td>\n",
       "      <td>9.8</td>\n",
       "      <td>5</td>\n",
       "    </tr>\n",
       "    <tr>\n",
       "      <th>3</th>\n",
       "      <td>11.2</td>\n",
       "      <td>0.28</td>\n",
       "      <td>0.56</td>\n",
       "      <td>1.9</td>\n",
       "      <td>0.075</td>\n",
       "      <td>17.0</td>\n",
       "      <td>60.0</td>\n",
       "      <td>0.9980</td>\n",
       "      <td>3.16</td>\n",
       "      <td>0.58</td>\n",
       "      <td>9.8</td>\n",
       "      <td>6</td>\n",
       "    </tr>\n",
       "    <tr>\n",
       "      <th>4</th>\n",
       "      <td>7.4</td>\n",
       "      <td>0.70</td>\n",
       "      <td>0.00</td>\n",
       "      <td>1.9</td>\n",
       "      <td>0.076</td>\n",
       "      <td>11.0</td>\n",
       "      <td>34.0</td>\n",
       "      <td>0.9978</td>\n",
       "      <td>3.51</td>\n",
       "      <td>0.56</td>\n",
       "      <td>9.4</td>\n",
       "      <td>5</td>\n",
       "    </tr>\n",
       "  </tbody>\n",
       "</table>\n",
       "</div>"
      ],
      "text/plain": [
       "   fixed acidity  volatile acidity  citric acid  residual sugar  chlorides  \\\n",
       "0            7.4              0.70         0.00             1.9      0.076   \n",
       "1            7.8              0.88         0.00             2.6      0.098   \n",
       "2            7.8              0.76         0.04             2.3      0.092   \n",
       "3           11.2              0.28         0.56             1.9      0.075   \n",
       "4            7.4              0.70         0.00             1.9      0.076   \n",
       "\n",
       "   free sulfur dioxide  total sulfur dioxide  density    pH  sulphates  \\\n",
       "0                 11.0                  34.0   0.9978  3.51       0.56   \n",
       "1                 25.0                  67.0   0.9968  3.20       0.68   \n",
       "2                 15.0                  54.0   0.9970  3.26       0.65   \n",
       "3                 17.0                  60.0   0.9980  3.16       0.58   \n",
       "4                 11.0                  34.0   0.9978  3.51       0.56   \n",
       "\n",
       "   alcohol  quality  \n",
       "0      9.4        5  \n",
       "1      9.8        5  \n",
       "2      9.8        5  \n",
       "3      9.8        6  \n",
       "4      9.4        5  "
      ]
     },
     "execution_count": 8,
     "metadata": {},
     "output_type": "execute_result"
    }
   ],
   "source": [
    "wines = pd.read_csv('winequality-red.csv', sep = ';')\n",
    "wines.head()"
   ]
  },
  {
   "cell_type": "code",
   "execution_count": 9,
   "id": "29ef91e7",
   "metadata": {},
   "outputs": [
    {
     "data": {
      "text/plain": [
       "Text(0.5, 1.0, 'Рейтинг красных вин')"
      ]
     },
     "execution_count": 9,
     "metadata": {},
     "output_type": "execute_result"
    },
    {
     "data": {
      "image/png": "[encoded data removed]",
      "text/plain": [
       "<Figure size 432x288 with 1 Axes>"
      ]
     },
     "metadata": {
      "needs_background": "light"
     },
     "output_type": "display_data"
    }
   ],
   "source": [
    "sns.countplot(x = 'quality', data = wines)\n",
    "plt.xlabel('Оценка')\n",
    "plt.ylabel('Количество')\n",
    "plt.title('Рейтинг красных вин')"
   ]
  },
  {
   "cell_type": "code",
   "execution_count": 10,
   "id": "4ea2ed9d",
   "metadata": {},
   "outputs": [],
   "source": [
    "Y = wines.quality\n",
    "X = wines.drop('quality', axis = 1)\n",
    "\n",
    "# drop() method removes the specified row or column."
   ]
  },
  {
   "cell_type": "code",
   "execution_count": 11,
   "id": "9ac267f1",
   "metadata": {},
   "outputs": [
    {
     "name": "stdout",
     "output_type": "stream",
     "text": [
      "n=1599\n",
      "                         beta  se(beta)      p  lower 0.95  upper 0.95     \n",
      "attribute names                                                            \n",
      "fixed acidity          0.1284    0.0823 0.1188     -0.0329      0.2898     \n",
      "volatile acidity      -3.3957    0.4031 0.0000     -4.1857     -2.6058  ***\n",
      "citric acid           -0.8022    0.4622 0.0827     -1.7081      0.1038    .\n",
      "residual sugar         0.0878    0.0480 0.0670     -0.0062      0.1818    .\n",
      "chlorides             -5.1416    1.3595 0.0002     -7.8062     -2.4770  ***\n",
      "free sulfur dioxide    0.0137    0.0068 0.0444      0.0003      0.0270    *\n",
      "total sulfur dioxide  -0.0111    0.0024 0.0000     -0.0158     -0.0065  ***\n",
      "density              -76.5142   68.3657 0.2631   -210.5086     57.4801     \n",
      "pH                    -0.8469    0.6009 0.1587     -2.0246      0.3309     \n",
      "sulphates              2.9016    0.3675 0.0000      2.1814      3.6218  ***\n",
      "alcohol                0.8308    0.0852 0.0000      0.6637      0.9978  ***\n",
      "---\n",
      "Signif. codes:  0 '***' 0.001 '**' 0.01 '*' 0.05 '.' 0.1 ' ' 1 \n",
      "\n",
      "Somers' D = 0.481\n"
     ]
    }
   ],
   "source": [
    "ol = OrderedLogit()\n",
    "ol.fit(X, Y) # сначала НП, потом ЗП\n",
    "ol.print_summary()"
   ]
  },
  {
   "cell_type": "markdown",
   "id": "aaed6c9f",
   "metadata": {},
   "source": [
    "##### Somers' D - аналог R^2, но меняется от -1 до 1 (как корреляция). Чем он больше и положительнее, тем лучше\n",
    "\n",
    "##### негативно влияет на оценку volatile acidity (-3.3957), chlorides (-5.1416) и т.д.\n",
    "\n",
    "##### позитивно влияет на оценку sulphates (2.9016), alcohol (0.8308) и т.д."
   ]
  },
  {
   "cell_type": "markdown",
   "id": "7a7dd4ff",
   "metadata": {},
   "source": [
    "# Регрессия количеств"
   ]
  },
  {
   "cell_type": "code",
   "execution_count": 12,
   "id": "03d1bc49",
   "metadata": {},
   "outputs": [
    {
     "data": {
      "text/html": [
       "<div>\n",
       "<style scoped>\n",
       "    .dataframe tbody tr th:only-of-type {\n",
       "        vertical-align: middle;\n",
       "    }\n",
       "\n",
       "    .dataframe tbody tr th {\n",
       "        vertical-align: top;\n",
       "    }\n",
       "\n",
       "    .dataframe thead th {\n",
       "        text-align: right;\n",
       "    }\n",
       "</style>\n",
       "<table border=\"1\" class=\"dataframe\">\n",
       "  <thead>\n",
       "    <tr style=\"text-align: right;\">\n",
       "      <th></th>\n",
       "      <th>card</th>\n",
       "      <th>reports</th>\n",
       "      <th>age</th>\n",
       "      <th>income</th>\n",
       "      <th>share</th>\n",
       "      <th>expenditure</th>\n",
       "      <th>owner</th>\n",
       "      <th>selfemp</th>\n",
       "      <th>dependents</th>\n",
       "      <th>months</th>\n",
       "      <th>majorcards</th>\n",
       "      <th>active</th>\n",
       "    </tr>\n",
       "  </thead>\n",
       "  <tbody>\n",
       "    <tr>\n",
       "      <th>0</th>\n",
       "      <td>yes</td>\n",
       "      <td>0</td>\n",
       "      <td>37.66667</td>\n",
       "      <td>4.5200</td>\n",
       "      <td>0.033270</td>\n",
       "      <td>124.983300</td>\n",
       "      <td>yes</td>\n",
       "      <td>no</td>\n",
       "      <td>3</td>\n",
       "      <td>54</td>\n",
       "      <td>1</td>\n",
       "      <td>12</td>\n",
       "    </tr>\n",
       "    <tr>\n",
       "      <th>1</th>\n",
       "      <td>yes</td>\n",
       "      <td>0</td>\n",
       "      <td>33.25000</td>\n",
       "      <td>2.4200</td>\n",
       "      <td>0.005217</td>\n",
       "      <td>9.854167</td>\n",
       "      <td>no</td>\n",
       "      <td>no</td>\n",
       "      <td>3</td>\n",
       "      <td>34</td>\n",
       "      <td>1</td>\n",
       "      <td>13</td>\n",
       "    </tr>\n",
       "    <tr>\n",
       "      <th>2</th>\n",
       "      <td>yes</td>\n",
       "      <td>0</td>\n",
       "      <td>33.66667</td>\n",
       "      <td>4.5000</td>\n",
       "      <td>0.004156</td>\n",
       "      <td>15.000000</td>\n",
       "      <td>yes</td>\n",
       "      <td>no</td>\n",
       "      <td>4</td>\n",
       "      <td>58</td>\n",
       "      <td>1</td>\n",
       "      <td>5</td>\n",
       "    </tr>\n",
       "    <tr>\n",
       "      <th>3</th>\n",
       "      <td>yes</td>\n",
       "      <td>0</td>\n",
       "      <td>30.50000</td>\n",
       "      <td>2.5400</td>\n",
       "      <td>0.065214</td>\n",
       "      <td>137.869200</td>\n",
       "      <td>no</td>\n",
       "      <td>no</td>\n",
       "      <td>0</td>\n",
       "      <td>25</td>\n",
       "      <td>1</td>\n",
       "      <td>7</td>\n",
       "    </tr>\n",
       "    <tr>\n",
       "      <th>4</th>\n",
       "      <td>yes</td>\n",
       "      <td>0</td>\n",
       "      <td>32.16667</td>\n",
       "      <td>9.7867</td>\n",
       "      <td>0.067051</td>\n",
       "      <td>546.503300</td>\n",
       "      <td>yes</td>\n",
       "      <td>no</td>\n",
       "      <td>2</td>\n",
       "      <td>64</td>\n",
       "      <td>1</td>\n",
       "      <td>5</td>\n",
       "    </tr>\n",
       "  </tbody>\n",
       "</table>\n",
       "</div>"
      ],
      "text/plain": [
       "  card  reports       age  income     share  expenditure owner selfemp  \\\n",
       "0  yes        0  37.66667  4.5200  0.033270   124.983300   yes      no   \n",
       "1  yes        0  33.25000  2.4200  0.005217     9.854167    no      no   \n",
       "2  yes        0  33.66667  4.5000  0.004156    15.000000   yes      no   \n",
       "3  yes        0  30.50000  2.5400  0.065214   137.869200    no      no   \n",
       "4  yes        0  32.16667  9.7867  0.067051   546.503300   yes      no   \n",
       "\n",
       "   dependents  months  majorcards  active  \n",
       "0           3      54           1      12  \n",
       "1           3      34           1      13  \n",
       "2           4      58           1       5  \n",
       "3           0      25           1       7  \n",
       "4           2      64           1       5  "
      ]
     },
     "execution_count": 12,
     "metadata": {},
     "output_type": "execute_result"
    }
   ],
   "source": [
    "credit = pd.read_csv(\"credit_card.csv\")\n",
    "credit.head()"
   ]
  },
  {
   "cell_type": "code",
   "execution_count": 13,
   "id": "61ce5700",
   "metadata": {},
   "outputs": [
    {
     "data": {
      "text/plain": [
       "Text(0.5, 1.0, 'Количество активных счетов')"
      ]
     },
     "execution_count": 13,
     "metadata": {},
     "output_type": "execute_result"
    },
    {
     "data": {
      "image/png": "[encoded data removed]",
      "text/plain": [
       "<Figure size 432x288 with 1 Axes>"
      ]
     },
     "metadata": {
      "needs_background": "light"
     },
     "output_type": "display_data"
    }
   ],
   "source": [
    "sns.countplot(x = 'active', data = credit)\n",
    "plt.xlabel('Количество')\n",
    "plt.ylabel('Частота')\n",
    "plt.title('Количество активных счетов')"
   ]
  },
  {
   "cell_type": "markdown",
   "id": "ed0dfb4a",
   "metadata": {},
   "source": [
    "##### есть явный избыток нулей"
   ]
  },
  {
   "cell_type": "markdown",
   "id": "45f427f2",
   "metadata": {},
   "source": [
    "##### построим модель Пуассона"
   ]
  },
  {
   "cell_type": "code",
   "execution_count": 14,
   "id": "7130566c",
   "metadata": {},
   "outputs": [
    {
     "data": {
      "text/html": [
       "<table class=\"simpletable\">\n",
       "<caption>Generalized Linear Model Regression Results</caption>\n",
       "<tr>\n",
       "  <th>Dep. Variable:</th>        <td>active</td>      <th>  No. Observations:  </th>  <td>  1319</td> \n",
       "</tr>\n",
       "<tr>\n",
       "  <th>Model:</th>                  <td>GLM</td>       <th>  Df Residuals:      </th>  <td>  1313</td> \n",
       "</tr>\n",
       "<tr>\n",
       "  <th>Model Family:</th>         <td>Poisson</td>     <th>  Df Model:          </th>  <td>     5</td> \n",
       "</tr>\n",
       "<tr>\n",
       "  <th>Link Function:</th>          <td>Log</td>       <th>  Scale:             </th> <td>  1.0000</td>\n",
       "</tr>\n",
       "<tr>\n",
       "  <th>Method:</th>                <td>IRLS</td>       <th>  Log-Likelihood:    </th> <td> -5614.4</td>\n",
       "</tr>\n",
       "<tr>\n",
       "  <th>Date:</th>            <td>Sun, 04 Dec 2022</td> <th>  Deviance:          </th> <td>  7142.4</td>\n",
       "</tr>\n",
       "<tr>\n",
       "  <th>Time:</th>                <td>20:19:30</td>     <th>  Pearson chi2:      </th> <td>6.89e+03</td>\n",
       "</tr>\n",
       "<tr>\n",
       "  <th>No. Iterations:</th>          <td>5</td>        <th>  Pseudo R-squ. (CS):</th>  <td>0.3903</td> \n",
       "</tr>\n",
       "<tr>\n",
       "  <th>Covariance Type:</th>     <td>nonrobust</td>    <th>                     </th>     <td> </td>   \n",
       "</tr>\n",
       "</table>\n",
       "<table class=\"simpletable\">\n",
       "<tr>\n",
       "          <td></td>             <th>coef</th>     <th>std err</th>      <th>z</th>      <th>P>|z|</th>  <th>[0.025</th>    <th>0.975]</th>  \n",
       "</tr>\n",
       "<tr>\n",
       "  <th>Intercept</th>         <td>    1.4000</td> <td>    0.037</td> <td>   37.440</td> <td> 0.000</td> <td>    1.327</td> <td>    1.473</td>\n",
       "</tr>\n",
       "<tr>\n",
       "  <th>C(owner)[T.yes]</th>   <td>    0.4033</td> <td>    0.023</td> <td>   17.409</td> <td> 0.000</td> <td>    0.358</td> <td>    0.449</td>\n",
       "</tr>\n",
       "<tr>\n",
       "  <th>C(selfemp)[T.yes]</th> <td>    0.0141</td> <td>    0.040</td> <td>    0.355</td> <td> 0.723</td> <td>   -0.064</td> <td>    0.092</td>\n",
       "</tr>\n",
       "<tr>\n",
       "  <th>age</th>               <td>    0.0062</td> <td>    0.001</td> <td>    5.648</td> <td> 0.000</td> <td>    0.004</td> <td>    0.008</td>\n",
       "</tr>\n",
       "<tr>\n",
       "  <th>income</th>            <td>    0.0361</td> <td>    0.006</td> <td>    5.752</td> <td> 0.000</td> <td>    0.024</td> <td>    0.048</td>\n",
       "</tr>\n",
       "<tr>\n",
       "  <th>expenditure</th>       <td> 2.925e-05</td> <td> 3.75e-05</td> <td>    0.779</td> <td> 0.436</td> <td>-4.43e-05</td> <td>    0.000</td>\n",
       "</tr>\n",
       "</table>"
      ],
      "text/plain": [
       "<class 'statsmodels.iolib.summary.Summary'>\n",
       "\"\"\"\n",
       "                 Generalized Linear Model Regression Results                  \n",
       "==============================================================================\n",
       "Dep. Variable:                 active   No. Observations:                 1319\n",
       "Model:                            GLM   Df Residuals:                     1313\n",
       "Model Family:                 Poisson   Df Model:                            5\n",
       "Link Function:                    Log   Scale:                          1.0000\n",
       "Method:                          IRLS   Log-Likelihood:                -5614.4\n",
       "Date:                Sun, 04 Dec 2022   Deviance:                       7142.4\n",
       "Time:                        20:19:30   Pearson chi2:                 6.89e+03\n",
       "No. Iterations:                     5   Pseudo R-squ. (CS):             0.3903\n",
       "Covariance Type:            nonrobust                                         \n",
       "=====================================================================================\n",
       "                        coef    std err          z      P>|z|      [0.025      0.975]\n",
       "-------------------------------------------------------------------------------------\n",
       "Intercept             1.4000      0.037     37.440      0.000       1.327       1.473\n",
       "C(owner)[T.yes]       0.4033      0.023     17.409      0.000       0.358       0.449\n",
       "C(selfemp)[T.yes]     0.0141      0.040      0.355      0.723      -0.064       0.092\n",
       "age                   0.0062      0.001      5.648      0.000       0.004       0.008\n",
       "income                0.0361      0.006      5.752      0.000       0.024       0.048\n",
       "expenditure        2.925e-05   3.75e-05      0.779      0.436   -4.43e-05       0.000\n",
       "=====================================================================================\n",
       "\"\"\""
      ]
     },
     "execution_count": 14,
     "metadata": {},
     "output_type": "execute_result"
    }
   ],
   "source": [
    "pois = sf.glm('active ~ age + income + expenditure + C(owner) + C(selfemp)', family = sm.families.Poisson(), data = credit).fit()\n",
    "pois.summary()"
   ]
  },
  {
   "cell_type": "markdown",
   "id": "0c626606",
   "metadata": {},
   "source": [
    "##### судя по P>|z|, selfemp и expenditure никак не влияет на количество активных счетов\n",
    "\n",
    "##### позитивно влияет owner, age, income"
   ]
  },
  {
   "cell_type": "markdown",
   "id": "6ac3aef9",
   "metadata": {},
   "source": [
    "##### но тут может возникнуть проблема сверхдисперсии"
   ]
  },
  {
   "cell_type": "code",
   "execution_count": 15,
   "id": "6d221aec",
   "metadata": {},
   "outputs": [
    {
     "data": {
      "text/plain": [
       "5.2499399969242555"
      ]
     },
     "execution_count": 15,
     "metadata": {},
     "output_type": "execute_result"
    }
   ],
   "source": [
    "pois.pearson_chi2/pois.df_resid\n",
    "\n",
    "# pearson_chi2 - параметр остатков распределения\n",
    "# df_resid - степени свободы этих остатков"
   ]
  },
  {
   "cell_type": "markdown",
   "id": "96c41325",
   "metadata": {},
   "source": [
    "##### Для модели Пуассона это значение должно быть близко к 1. "
   ]
  },
  {
   "cell_type": "markdown",
   "id": "e3b4657b",
   "metadata": {},
   "source": [
    "##### Построим отрицательно-биномиальную модель\n"
   ]
  },
  {
   "cell_type": "markdown",
   "id": "c79bab06",
   "metadata": {},
   "source": [
    "##### параметр alpha нужен, когда распределение не сходится."
   ]
  },
  {
   "cell_type": "code",
   "execution_count": 16,
   "id": "289deb7f",
   "metadata": {},
   "outputs": [
    {
     "data": {
      "text/html": [
       "<table class=\"simpletable\">\n",
       "<caption>Generalized Linear Model Regression Results</caption>\n",
       "<tr>\n",
       "  <th>Dep. Variable:</th>        <td>active</td>      <th>  No. Observations:  </th>  <td>  1319</td> \n",
       "</tr>\n",
       "<tr>\n",
       "  <th>Model:</th>                  <td>GLM</td>       <th>  Df Residuals:      </th>  <td>  1313</td> \n",
       "</tr>\n",
       "<tr>\n",
       "  <th>Model Family:</th>    <td>NegativeBinomial</td> <th>  Df Model:          </th>  <td>     5</td> \n",
       "</tr>\n",
       "<tr>\n",
       "  <th>Link Function:</th>          <td>Log</td>       <th>  Scale:             </th> <td>  1.0000</td>\n",
       "</tr>\n",
       "<tr>\n",
       "  <th>Method:</th>                <td>IRLS</td>       <th>  Log-Likelihood:    </th> <td> -4429.3</td>\n",
       "</tr>\n",
       "<tr>\n",
       "  <th>Date:</th>            <td>Sun, 04 Dec 2022</td> <th>  Deviance:          </th> <td>  3940.9</td>\n",
       "</tr>\n",
       "<tr>\n",
       "  <th>Time:</th>                <td>20:19:31</td>     <th>  Pearson chi2:      </th> <td>3.44e+03</td>\n",
       "</tr>\n",
       "<tr>\n",
       "  <th>No. Iterations:</th>          <td>5</td>        <th>  Pseudo R-squ. (CS):</th>  <td>0.2157</td> \n",
       "</tr>\n",
       "<tr>\n",
       "  <th>Covariance Type:</th>     <td>nonrobust</td>    <th>                     </th>     <td> </td>   \n",
       "</tr>\n",
       "</table>\n",
       "<table class=\"simpletable\">\n",
       "<tr>\n",
       "          <td></td>             <th>coef</th>     <th>std err</th>      <th>z</th>      <th>P>|z|</th>  <th>[0.025</th>    <th>0.975]</th>  \n",
       "</tr>\n",
       "<tr>\n",
       "  <th>Intercept</th>         <td>    1.3690</td> <td>    0.054</td> <td>   25.206</td> <td> 0.000</td> <td>    1.263</td> <td>    1.475</td>\n",
       "</tr>\n",
       "<tr>\n",
       "  <th>C(owner)[T.yes]</th>   <td>    0.3984</td> <td>    0.033</td> <td>   11.996</td> <td> 0.000</td> <td>    0.333</td> <td>    0.463</td>\n",
       "</tr>\n",
       "<tr>\n",
       "  <th>C(selfemp)[T.yes]</th> <td>    0.0055</td> <td>    0.059</td> <td>    0.094</td> <td> 0.925</td> <td>   -0.110</td> <td>    0.121</td>\n",
       "</tr>\n",
       "<tr>\n",
       "  <th>age</th>               <td>    0.0069</td> <td>    0.002</td> <td>    4.263</td> <td> 0.000</td> <td>    0.004</td> <td>    0.010</td>\n",
       "</tr>\n",
       "<tr>\n",
       "  <th>income</th>            <td>    0.0393</td> <td>    0.010</td> <td>    4.099</td> <td> 0.000</td> <td>    0.021</td> <td>    0.058</td>\n",
       "</tr>\n",
       "<tr>\n",
       "  <th>expenditure</th>       <td> 2.445e-05</td> <td> 5.63e-05</td> <td>    0.434</td> <td> 0.664</td> <td>-8.59e-05</td> <td>    0.000</td>\n",
       "</tr>\n",
       "</table>"
      ],
      "text/plain": [
       "<class 'statsmodels.iolib.summary.Summary'>\n",
       "\"\"\"\n",
       "                 Generalized Linear Model Regression Results                  \n",
       "==============================================================================\n",
       "Dep. Variable:                 active   No. Observations:                 1319\n",
       "Model:                            GLM   Df Residuals:                     1313\n",
       "Model Family:        NegativeBinomial   Df Model:                            5\n",
       "Link Function:                    Log   Scale:                          1.0000\n",
       "Method:                          IRLS   Log-Likelihood:                -4429.3\n",
       "Date:                Sun, 04 Dec 2022   Deviance:                       3940.9\n",
       "Time:                        20:19:31   Pearson chi2:                 3.44e+03\n",
       "No. Iterations:                     5   Pseudo R-squ. (CS):             0.2157\n",
       "Covariance Type:            nonrobust                                         \n",
       "=====================================================================================\n",
       "                        coef    std err          z      P>|z|      [0.025      0.975]\n",
       "-------------------------------------------------------------------------------------\n",
       "Intercept             1.3690      0.054     25.206      0.000       1.263       1.475\n",
       "C(owner)[T.yes]       0.3984      0.033     11.996      0.000       0.333       0.463\n",
       "C(selfemp)[T.yes]     0.0055      0.059      0.094      0.925      -0.110       0.121\n",
       "age                   0.0069      0.002      4.263      0.000       0.004       0.010\n",
       "income                0.0393      0.010      4.099      0.000       0.021       0.058\n",
       "expenditure        2.445e-05   5.63e-05      0.434      0.664   -8.59e-05       0.000\n",
       "=====================================================================================\n",
       "\"\"\""
      ]
     },
     "execution_count": 16,
     "metadata": {},
     "output_type": "execute_result"
    }
   ],
   "source": [
    "neg = sf.glm('active ~ age + income + expenditure + C(owner) + C(selfemp)', data = credit, family = sm.families.NegativeBinomial(alpha=0.15)).fit()\n",
    "neg.summary()"
   ]
  },
  {
   "cell_type": "markdown",
   "id": "fa49532d",
   "metadata": {},
   "source": [
    "##### интерпретация остается той же самой. посмотрим, как тут со сверхдисперсией"
   ]
  },
  {
   "cell_type": "code",
   "execution_count": 17,
   "id": "69c37c75",
   "metadata": {},
   "outputs": [
    {
     "data": {
      "text/plain": [
       "2.6196780724869027"
      ]
     },
     "execution_count": 17,
     "metadata": {},
     "output_type": "execute_result"
    }
   ],
   "source": [
    "neg.pearson_chi2/neg.df_resid"
   ]
  },
  {
   "cell_type": "markdown",
   "id": "ac4b8ea8",
   "metadata": {},
   "source": [
    "##### уже лучше, но не идеально"
   ]
  },
  {
   "cell_type": "markdown",
   "id": "d042d3a9",
   "metadata": {},
   "source": [
    "##### сравним эти две модели с помощью информационного кретирия Акаике (AIC)\n",
    "##### чем он ниже, тем лучше модель\n",
    "##### применим, если ЗП и НП одинаковые"
   ]
  },
  {
   "cell_type": "code",
   "execution_count": 18,
   "id": "1b5fc1da",
   "metadata": {},
   "outputs": [
    {
     "name": "stdout",
     "output_type": "stream",
     "text": [
      "11240.817775454601\n",
      "8870.632884339047\n"
     ]
    }
   ],
   "source": [
    "print(pois.aic)\n",
    "print(neg.aic)"
   ]
  },
  {
   "cell_type": "markdown",
   "id": "45301e4a",
   "metadata": {},
   "source": [
    "##### предиктивная способность негативно-биномиальной лучше"
   ]
  },
  {
   "cell_type": "markdown",
   "id": "25db750e",
   "metadata": {},
   "source": [
    "##### Применим регрессию с повышенным количеством нулей"
   ]
  },
  {
   "cell_type": "code",
   "execution_count": 19,
   "id": "640ed2b3",
   "metadata": {},
   "outputs": [],
   "source": [
    "# подготовим данные, т.к. функция GLM не реализует такую регрессию\n",
    "\n",
    "credit.owner = np.where(credit.owner == 'yes', 1, 0)\n",
    "credit.selfemp = np.where(credit.selfemp == 'yes', 1, 0)\n",
    "\n",
    "# перекодируем категориальные данные из слов в 1 и 0\n",
    "\n",
    "Y = credit.active # ЗП\n",
    "X = credit.loc[:, ['owner', 'selfemp','age','income', 'expenditure']] # НП\n",
    "# loc вернет DataFrame, где все столбцы (:) с данным именем\n",
    "X = sm.add_constant(X) # добавляем констатку, чтобы в модели был intercept"
   ]
  },
  {
   "cell_type": "code",
   "execution_count": 20,
   "id": "a2c9fe7b",
   "metadata": {},
   "outputs": [
    {
     "name": "stdout",
     "output_type": "stream",
     "text": [
      "Optimization terminated successfully.\n",
      "         Current function value: 3.899929\n",
      "         Iterations: 4\n",
      "         Function evaluations: 6\n",
      "         Gradient evaluations: 6\n",
      "         Hessian evaluations: 4\n"
     ]
    },
    {
     "name": "stderr",
     "output_type": "stream",
     "text": [
      "C:\\Users\\mylen\\AppData\\Local\\Programs\\Python\\Python310\\lib\\site-packages\\statsmodels\\base\\model.py:604: ConvergenceWarning: Maximum Likelihood optimization failed to converge. Check mle_retvals\n",
      "  warnings.warn(\"Maximum Likelihood optimization failed to \"\n"
     ]
    },
    {
     "data": {
      "text/html": [
       "<table class=\"simpletable\">\n",
       "<caption>ZeroInflatedPoisson Regression Results</caption>\n",
       "<tr>\n",
       "  <th>Dep. Variable:</th>         <td>active</td>        <th>  No. Observations:  </th>  <td>  1319</td> \n",
       "</tr>\n",
       "<tr>\n",
       "  <th>Model:</th>           <td>ZeroInflatedPoisson</td> <th>  Df Residuals:      </th>  <td>  1313</td> \n",
       "</tr>\n",
       "<tr>\n",
       "  <th>Method:</th>                  <td>MLE</td>         <th>  Df Model:          </th>  <td>     5</td> \n",
       "</tr>\n",
       "<tr>\n",
       "  <th>Date:</th>             <td>Sun, 04 Dec 2022</td>   <th>  Pseudo R-squ.:     </th> <td>-0.05893</td>\n",
       "</tr>\n",
       "<tr>\n",
       "  <th>Time:</th>                 <td>20:19:32</td>       <th>  Log-Likelihood:    </th> <td> -5144.0</td>\n",
       "</tr>\n",
       "<tr>\n",
       "  <th>converged:</th>              <td>True</td>         <th>  LL-Null:           </th> <td> -4857.8</td>\n",
       "</tr>\n",
       "<tr>\n",
       "  <th>Covariance Type:</th>      <td>nonrobust</td>      <th>  LLR p-value:       </th>  <td> 1.000</td> \n",
       "</tr>\n",
       "</table>\n",
       "<table class=\"simpletable\">\n",
       "<tr>\n",
       "        <td></td>           <th>coef</th>     <th>std err</th>      <th>z</th>      <th>P>|z|</th>  <th>[0.025</th>    <th>0.975]</th>  \n",
       "</tr>\n",
       "<tr>\n",
       "  <th>inflate_const</th> <td>    0.0999</td> <td>    0.055</td> <td>    1.812</td> <td> 0.070</td> <td>   -0.008</td> <td>    0.208</td>\n",
       "</tr>\n",
       "<tr>\n",
       "  <th>const</th>         <td>    1.7967</td> <td>    0.037</td> <td>   48.172</td> <td> 0.000</td> <td>    1.724</td> <td>    1.870</td>\n",
       "</tr>\n",
       "<tr>\n",
       "  <th>owner</th>         <td>    0.0017</td> <td>    0.023</td> <td>    0.073</td> <td> 0.942</td> <td>   -0.043</td> <td>    0.046</td>\n",
       "</tr>\n",
       "<tr>\n",
       "  <th>selfemp</th>       <td>    0.0008</td> <td>    0.039</td> <td>    0.022</td> <td> 0.983</td> <td>   -0.075</td> <td>    0.077</td>\n",
       "</tr>\n",
       "<tr>\n",
       "  <th>age</th>           <td>    0.0093</td> <td>    0.001</td> <td>    8.656</td> <td> 0.000</td> <td>    0.007</td> <td>    0.011</td>\n",
       "</tr>\n",
       "<tr>\n",
       "  <th>income</th>        <td>    0.0019</td> <td>    0.007</td> <td>    0.280</td> <td> 0.779</td> <td>   -0.011</td> <td>    0.015</td>\n",
       "</tr>\n",
       "<tr>\n",
       "  <th>expenditure</th>   <td>    0.0001</td> <td> 3.81e-05</td> <td>    2.691</td> <td> 0.007</td> <td> 2.79e-05</td> <td>    0.000</td>\n",
       "</tr>\n",
       "</table>"
      ],
      "text/plain": [
       "<class 'statsmodels.iolib.summary.Summary'>\n",
       "\"\"\"\n",
       "                     ZeroInflatedPoisson Regression Results                    \n",
       "===============================================================================\n",
       "Dep. Variable:                  active   No. Observations:                 1319\n",
       "Model:             ZeroInflatedPoisson   Df Residuals:                     1313\n",
       "Method:                            MLE   Df Model:                            5\n",
       "Date:                 Sun, 04 Dec 2022   Pseudo R-squ.:                -0.05893\n",
       "Time:                         20:19:32   Log-Likelihood:                -5144.0\n",
       "converged:                        True   LL-Null:                       -4857.8\n",
       "Covariance Type:             nonrobust   LLR p-value:                     1.000\n",
       "=================================================================================\n",
       "                    coef    std err          z      P>|z|      [0.025      0.975]\n",
       "---------------------------------------------------------------------------------\n",
       "inflate_const     0.0999      0.055      1.812      0.070      -0.008       0.208\n",
       "const             1.7967      0.037     48.172      0.000       1.724       1.870\n",
       "owner             0.0017      0.023      0.073      0.942      -0.043       0.046\n",
       "selfemp           0.0008      0.039      0.022      0.983      -0.075       0.077\n",
       "age               0.0093      0.001      8.656      0.000       0.007       0.011\n",
       "income            0.0019      0.007      0.280      0.779      -0.011       0.015\n",
       "expenditure       0.0001   3.81e-05      2.691      0.007    2.79e-05       0.000\n",
       "=================================================================================\n",
       "\"\"\""
      ]
     },
     "execution_count": 20,
     "metadata": {},
     "output_type": "execute_result"
    }
   ],
   "source": [
    "zeroinf = sm.ZeroInflatedPoisson(Y, X).fit(maxiter = 100, method = 'ncg')\n",
    "zeroinf.summary()"
   ]
  },
  {
   "cell_type": "markdown",
   "id": "e3d49fc0",
   "metadata": {},
   "source": [
    "##### часть коэффициентов внезапно стали не значимыми! теперь значим только возраст и (стали) расходы\n",
    "\n",
    "##### inflate - коэффициент, отвечающий за компенсацию лишних нулей"
   ]
  },
  {
   "cell_type": "code",
   "execution_count": 21,
   "id": "e89501d6",
   "metadata": {},
   "outputs": [
    {
     "name": "stdout",
     "output_type": "stream",
     "text": [
      "11240.817775454601\n",
      "8870.632884339047\n",
      "10300.01303290444\n"
     ]
    }
   ],
   "source": [
    "print(pois.aic)\n",
    "print(neg.aic)\n",
    "print(zeroinf.aic)"
   ]
  },
  {
   "cell_type": "markdown",
   "id": "ac32be99",
   "metadata": {},
   "source": [
    "##### лучше, чем просто Пуассон, но хуже, чем отрицательное биномиальное"
   ]
  },
  {
   "cell_type": "markdown",
   "id": "66336494",
   "metadata": {},
   "source": [
    "##### Построим отрицательное биномиальное распределение"
   ]
  },
  {
   "cell_type": "code",
   "execution_count": 22,
   "id": "d96e0ee7",
   "metadata": {},
   "outputs": [
    {
     "name": "stdout",
     "output_type": "stream",
     "text": [
      "Optimization terminated successfully.\n",
      "         Current function value: 3.055914\n",
      "         Iterations: 5\n",
      "         Function evaluations: 9\n",
      "         Gradient evaluations: 9\n",
      "         Hessian evaluations: 5\n"
     ]
    },
    {
     "data": {
      "text/html": [
       "<table class=\"simpletable\">\n",
       "<caption>ZeroInflatedNegativeBinomialP Regression Results</caption>\n",
       "<tr>\n",
       "  <th>Dep. Variable:</th>              <td>active</td>             <th>  No. Observations:  </th>  <td>  1319</td> \n",
       "</tr>\n",
       "<tr>\n",
       "  <th>Model:</th>           <td>ZeroInflatedNegativeBinomialP</td> <th>  Df Residuals:      </th>  <td>  1313</td> \n",
       "</tr>\n",
       "<tr>\n",
       "  <th>Method:</th>                       <td>MLE</td>              <th>  Df Model:          </th>  <td>     5</td> \n",
       "</tr>\n",
       "<tr>\n",
       "  <th>Date:</th>                  <td>Sun, 04 Dec 2022</td>        <th>  Pseudo R-squ.:     </th> <td>-0.03018</td>\n",
       "</tr>\n",
       "<tr>\n",
       "  <th>Time:</th>                      <td>20:19:33</td>            <th>  Log-Likelihood:    </th> <td> -4030.7</td>\n",
       "</tr>\n",
       "<tr>\n",
       "  <th>converged:</th>                   <td>True</td>              <th>  LL-Null:           </th> <td> -3912.7</td>\n",
       "</tr>\n",
       "<tr>\n",
       "  <th>Covariance Type:</th>           <td>nonrobust</td>           <th>  LLR p-value:       </th>  <td> 1.000</td> \n",
       "</tr>\n",
       "</table>\n",
       "<table class=\"simpletable\">\n",
       "<tr>\n",
       "        <td></td>           <th>coef</th>     <th>std err</th>      <th>z</th>      <th>P>|z|</th>  <th>[0.025</th>    <th>0.975]</th>  \n",
       "</tr>\n",
       "<tr>\n",
       "  <th>inflate_const</th> <td>   -0.5152</td> <td>    0.058</td> <td>   -8.820</td> <td> 0.000</td> <td>   -0.630</td> <td>   -0.401</td>\n",
       "</tr>\n",
       "<tr>\n",
       "  <th>const</th>         <td>    1.4543</td> <td>    0.087</td> <td>   16.765</td> <td> 0.000</td> <td>    1.284</td> <td>    1.624</td>\n",
       "</tr>\n",
       "<tr>\n",
       "  <th>owner</th>         <td>    0.3590</td> <td>    0.050</td> <td>    7.112</td> <td> 0.000</td> <td>    0.260</td> <td>    0.458</td>\n",
       "</tr>\n",
       "<tr>\n",
       "  <th>selfemp</th>       <td>    0.0029</td> <td>    0.090</td> <td>    0.032</td> <td> 0.974</td> <td>   -0.173</td> <td>    0.178</td>\n",
       "</tr>\n",
       "<tr>\n",
       "  <th>age</th>           <td>    0.0097</td> <td>    0.003</td> <td>    3.757</td> <td> 0.000</td> <td>    0.005</td> <td>    0.015</td>\n",
       "</tr>\n",
       "<tr>\n",
       "  <th>income</th>        <td>    0.0352</td> <td>    0.016</td> <td>    2.234</td> <td> 0.026</td> <td>    0.004</td> <td>    0.066</td>\n",
       "</tr>\n",
       "<tr>\n",
       "  <th>expenditure</th>   <td> 5.109e-05</td> <td> 9.08e-05</td> <td>    0.563</td> <td> 0.573</td> <td>   -0.000</td> <td>    0.000</td>\n",
       "</tr>\n",
       "<tr>\n",
       "  <th>alpha</th>         <td>    0.4517</td> <td>    0.032</td> <td>   14.330</td> <td> 0.000</td> <td>    0.390</td> <td>    0.514</td>\n",
       "</tr>\n",
       "</table>"
      ],
      "text/plain": [
       "<class 'statsmodels.iolib.summary.Summary'>\n",
       "\"\"\"\n",
       "                     ZeroInflatedNegativeBinomialP Regression Results                    \n",
       "=========================================================================================\n",
       "Dep. Variable:                            active   No. Observations:                 1319\n",
       "Model:             ZeroInflatedNegativeBinomialP   Df Residuals:                     1313\n",
       "Method:                                      MLE   Df Model:                            5\n",
       "Date:                           Sun, 04 Dec 2022   Pseudo R-squ.:                -0.03018\n",
       "Time:                                   20:19:33   Log-Likelihood:                -4030.7\n",
       "converged:                                  True   LL-Null:                       -3912.7\n",
       "Covariance Type:                       nonrobust   LLR p-value:                     1.000\n",
       "=================================================================================\n",
       "                    coef    std err          z      P>|z|      [0.025      0.975]\n",
       "---------------------------------------------------------------------------------\n",
       "inflate_const    -0.5152      0.058     -8.820      0.000      -0.630      -0.401\n",
       "const             1.4543      0.087     16.765      0.000       1.284       1.624\n",
       "owner             0.3590      0.050      7.112      0.000       0.260       0.458\n",
       "selfemp           0.0029      0.090      0.032      0.974      -0.173       0.178\n",
       "age               0.0097      0.003      3.757      0.000       0.005       0.015\n",
       "income            0.0352      0.016      2.234      0.026       0.004       0.066\n",
       "expenditure    5.109e-05   9.08e-05      0.563      0.573      -0.000       0.000\n",
       "alpha             0.4517      0.032     14.330      0.000       0.390       0.514\n",
       "=================================================================================\n",
       "\"\"\""
      ]
     },
     "execution_count": 22,
     "metadata": {},
     "output_type": "execute_result"
    }
   ],
   "source": [
    "zeroinf_2 = sm.ZeroInflatedNegativeBinomialP(Y, X).fit(maxiter = 100, method = 'ncg')\n",
    "zeroinf_2.summary()"
   ]
  },
  {
   "cell_type": "markdown",
   "id": "33b0da7d",
   "metadata": {},
   "source": [
    "коэффициент alpha оценивает избыток дисперсии, но мы его не интерпретируем"
   ]
  },
  {
   "cell_type": "markdown",
   "id": "ed877930",
   "metadata": {},
   "source": [
    "интерпретация похожа на изначальную"
   ]
  },
  {
   "cell_type": "code",
   "execution_count": 23,
   "id": "cbff151a",
   "metadata": {},
   "outputs": [
    {
     "name": "stdout",
     "output_type": "stream",
     "text": [
      "11240.817775454601\n",
      "8870.632884339047\n",
      "10300.01303290444\n",
      "8073.499838407361\n"
     ]
    }
   ],
   "source": [
    "print(pois.aic)\n",
    "print(neg.aic)\n",
    "print(zeroinf.aic)\n",
    "print(zeroinf_2.aic)"
   ]
  },
  {
   "cell_type": "markdown",
   "id": "261f1a30",
   "metadata": {},
   "source": [
    "последняя модель лучше всего описывает наши данные и она лучше всего для предиктивной аналитики. если задача - просто интерпретировать результаты, то можно обойтись и распределением Пуассона."
   ]
  },
  {
   "cell_type": "markdown",
   "id": "050b0dcd",
   "metadata": {},
   "source": [
    "Анализ выживаемости"
   ]
  },
  {
   "cell_type": "code",
   "execution_count": 24,
   "id": "be2d7c00",
   "metadata": {},
   "outputs": [],
   "source": [
    "import lifelines as lf"
   ]
  },
  {
   "cell_type": "code",
   "execution_count": 25,
   "id": "055702c3",
   "metadata": {},
   "outputs": [
    {
     "data": {
      "text/html": [
       "<div>\n",
       "<style scoped>\n",
       "    .dataframe tbody tr th:only-of-type {\n",
       "        vertical-align: middle;\n",
       "    }\n",
       "\n",
       "    .dataframe tbody tr th {\n",
       "        vertical-align: top;\n",
       "    }\n",
       "\n",
       "    .dataframe thead th {\n",
       "        text-align: right;\n",
       "    }\n",
       "</style>\n",
       "<table border=\"1\" class=\"dataframe\">\n",
       "  <thead>\n",
       "    <tr style=\"text-align: right;\">\n",
       "      <th></th>\n",
       "      <th>customerID</th>\n",
       "      <th>gender</th>\n",
       "      <th>SeniorCitizen</th>\n",
       "      <th>Partner</th>\n",
       "      <th>Dependents</th>\n",
       "      <th>tenure</th>\n",
       "      <th>PhoneService</th>\n",
       "      <th>MultipleLines</th>\n",
       "      <th>InternetService</th>\n",
       "      <th>OnlineSecurity</th>\n",
       "      <th>...</th>\n",
       "      <th>DeviceProtection</th>\n",
       "      <th>TechSupport</th>\n",
       "      <th>StreamingTV</th>\n",
       "      <th>StreamingMovies</th>\n",
       "      <th>Contract</th>\n",
       "      <th>PaperlessBilling</th>\n",
       "      <th>PaymentMethod</th>\n",
       "      <th>MonthlyCharges</th>\n",
       "      <th>TotalCharges</th>\n",
       "      <th>Churn</th>\n",
       "    </tr>\n",
       "  </thead>\n",
       "  <tbody>\n",
       "    <tr>\n",
       "      <th>0</th>\n",
       "      <td>7590-VHVEG</td>\n",
       "      <td>Female</td>\n",
       "      <td>0</td>\n",
       "      <td>Yes</td>\n",
       "      <td>No</td>\n",
       "      <td>1</td>\n",
       "      <td>No</td>\n",
       "      <td>No phone service</td>\n",
       "      <td>DSL</td>\n",
       "      <td>No</td>\n",
       "      <td>...</td>\n",
       "      <td>No</td>\n",
       "      <td>No</td>\n",
       "      <td>No</td>\n",
       "      <td>No</td>\n",
       "      <td>Month-to-month</td>\n",
       "      <td>Yes</td>\n",
       "      <td>Electronic check</td>\n",
       "      <td>29.85</td>\n",
       "      <td>29.85</td>\n",
       "      <td>No</td>\n",
       "    </tr>\n",
       "    <tr>\n",
       "      <th>1</th>\n",
       "      <td>5575-GNVDE</td>\n",
       "      <td>Male</td>\n",
       "      <td>0</td>\n",
       "      <td>No</td>\n",
       "      <td>No</td>\n",
       "      <td>34</td>\n",
       "      <td>Yes</td>\n",
       "      <td>No</td>\n",
       "      <td>DSL</td>\n",
       "      <td>Yes</td>\n",
       "      <td>...</td>\n",
       "      <td>Yes</td>\n",
       "      <td>No</td>\n",
       "      <td>No</td>\n",
       "      <td>No</td>\n",
       "      <td>One year</td>\n",
       "      <td>No</td>\n",
       "      <td>Mailed check</td>\n",
       "      <td>56.95</td>\n",
       "      <td>1889.5</td>\n",
       "      <td>No</td>\n",
       "    </tr>\n",
       "    <tr>\n",
       "      <th>2</th>\n",
       "      <td>3668-QPYBK</td>\n",
       "      <td>Male</td>\n",
       "      <td>0</td>\n",
       "      <td>No</td>\n",
       "      <td>No</td>\n",
       "      <td>2</td>\n",
       "      <td>Yes</td>\n",
       "      <td>No</td>\n",
       "      <td>DSL</td>\n",
       "      <td>Yes</td>\n",
       "      <td>...</td>\n",
       "      <td>No</td>\n",
       "      <td>No</td>\n",
       "      <td>No</td>\n",
       "      <td>No</td>\n",
       "      <td>Month-to-month</td>\n",
       "      <td>Yes</td>\n",
       "      <td>Mailed check</td>\n",
       "      <td>53.85</td>\n",
       "      <td>108.15</td>\n",
       "      <td>Yes</td>\n",
       "    </tr>\n",
       "    <tr>\n",
       "      <th>3</th>\n",
       "      <td>7795-CFOCW</td>\n",
       "      <td>Male</td>\n",
       "      <td>0</td>\n",
       "      <td>No</td>\n",
       "      <td>No</td>\n",
       "      <td>45</td>\n",
       "      <td>No</td>\n",
       "      <td>No phone service</td>\n",
       "      <td>DSL</td>\n",
       "      <td>Yes</td>\n",
       "      <td>...</td>\n",
       "      <td>Yes</td>\n",
       "      <td>Yes</td>\n",
       "      <td>No</td>\n",
       "      <td>No</td>\n",
       "      <td>One year</td>\n",
       "      <td>No</td>\n",
       "      <td>Bank transfer (automatic)</td>\n",
       "      <td>42.30</td>\n",
       "      <td>1840.75</td>\n",
       "      <td>No</td>\n",
       "    </tr>\n",
       "    <tr>\n",
       "      <th>4</th>\n",
       "      <td>9237-HQITU</td>\n",
       "      <td>Female</td>\n",
       "      <td>0</td>\n",
       "      <td>No</td>\n",
       "      <td>No</td>\n",
       "      <td>2</td>\n",
       "      <td>Yes</td>\n",
       "      <td>No</td>\n",
       "      <td>Fiber optic</td>\n",
       "      <td>No</td>\n",
       "      <td>...</td>\n",
       "      <td>No</td>\n",
       "      <td>No</td>\n",
       "      <td>No</td>\n",
       "      <td>No</td>\n",
       "      <td>Month-to-month</td>\n",
       "      <td>Yes</td>\n",
       "      <td>Electronic check</td>\n",
       "      <td>70.70</td>\n",
       "      <td>151.65</td>\n",
       "      <td>Yes</td>\n",
       "    </tr>\n",
       "  </tbody>\n",
       "</table>\n",
       "<p>5 rows × 21 columns</p>\n",
       "</div>"
      ],
      "text/plain": [
       "   customerID  gender  SeniorCitizen Partner Dependents  tenure PhoneService  \\\n",
       "0  7590-VHVEG  Female              0     Yes         No       1           No   \n",
       "1  5575-GNVDE    Male              0      No         No      34          Yes   \n",
       "2  3668-QPYBK    Male              0      No         No       2          Yes   \n",
       "3  7795-CFOCW    Male              0      No         No      45           No   \n",
       "4  9237-HQITU  Female              0      No         No       2          Yes   \n",
       "\n",
       "      MultipleLines InternetService OnlineSecurity  ... DeviceProtection  \\\n",
       "0  No phone service             DSL             No  ...               No   \n",
       "1                No             DSL            Yes  ...              Yes   \n",
       "2                No             DSL            Yes  ...               No   \n",
       "3  No phone service             DSL            Yes  ...              Yes   \n",
       "4                No     Fiber optic             No  ...               No   \n",
       "\n",
       "  TechSupport StreamingTV StreamingMovies        Contract PaperlessBilling  \\\n",
       "0          No          No              No  Month-to-month              Yes   \n",
       "1          No          No              No        One year               No   \n",
       "2          No          No              No  Month-to-month              Yes   \n",
       "3         Yes          No              No        One year               No   \n",
       "4          No          No              No  Month-to-month              Yes   \n",
       "\n",
       "               PaymentMethod MonthlyCharges  TotalCharges Churn  \n",
       "0           Electronic check          29.85         29.85    No  \n",
       "1               Mailed check          56.95        1889.5    No  \n",
       "2               Mailed check          53.85        108.15   Yes  \n",
       "3  Bank transfer (automatic)          42.30       1840.75    No  \n",
       "4           Electronic check          70.70        151.65   Yes  \n",
       "\n",
       "[5 rows x 21 columns]"
      ]
     },
     "execution_count": 25,
     "metadata": {},
     "output_type": "execute_result"
    }
   ],
   "source": [
    "churn = pd.read_csv('https://raw.githubusercontent.com/IBM/telco-customer-churn-on-icp4d/master/data/Telco-Customer-Churn.csv')\n",
    "churn.head()"
   ]
  },
  {
   "cell_type": "code",
   "execution_count": 26,
   "id": "d2c7fc88",
   "metadata": {},
   "outputs": [],
   "source": [
    "churn = churn.loc[:, ['Churn', 'tenure', 'SeniorCitizen', 'Dependents', 'MonthlyCharges', 'PaperlessBilling']]"
   ]
  },
  {
   "cell_type": "code",
   "execution_count": 27,
   "id": "e4c3c513",
   "metadata": {},
   "outputs": [
    {
     "data": {
      "text/plain": [
       "Text(0.5, 1.0, 'Судьба клиентов компании')"
      ]
     },
     "execution_count": 27,
     "metadata": {},
     "output_type": "execute_result"
    },
    {
     "data": {
      "image/png": "[encoded data removed]",
      "text/plain": [
       "<Figure size 432x288 with 1 Axes>"
      ]
     },
     "metadata": {
      "needs_background": "light"
     },
     "output_type": "display_data"
    }
   ],
   "source": [
    "sns.countplot(x = 'Churn', data = churn)\n",
    "plt.xlabel('Ушёл ли клиент?')\n",
    "plt.ylabel('Количество')\n",
    "plt.title('Судьба клиентов компании')"
   ]
  },
  {
   "cell_type": "code",
   "execution_count": 28,
   "id": "3bfaa8b5",
   "metadata": {},
   "outputs": [
    {
     "name": "stderr",
     "output_type": "stream",
     "text": [
      "C:\\Users\\mylen\\AppData\\Local\\Programs\\Python\\Python310\\lib\\site-packages\\seaborn\\distributions.py:2619: FutureWarning: `distplot` is a deprecated function and will be removed in a future version. Please adapt your code to use either `displot` (a figure-level function with similar flexibility) or `histplot` (an axes-level function for histograms).\n",
      "  warnings.warn(msg, FutureWarning)\n"
     ]
    },
    {
     "data": {
      "text/plain": [
       "Text(0.5, 1.0, 'Сколько времени клиенты провели с компанией')"
      ]
     },
     "execution_count": 28,
     "metadata": {},
     "output_type": "execute_result"
    },
    {
     "data": {
      "image/png": "[encoded data removed]",
      "text/plain": [
       "<Figure size 432x288 with 1 Axes>"
      ]
     },
     "metadata": {
      "needs_background": "light"
     },
     "output_type": "display_data"
    }
   ],
   "source": [
    "sns.distplot(churn.tenure, kde = False)\n",
    "plt.xlabel('Количество месяцев')\n",
    "plt.ylabel('Частота')\n",
    "plt.title('Сколько времени клиенты провели с компанией')"
   ]
  },
  {
   "cell_type": "markdown",
   "id": "dd13db55",
   "metadata": {},
   "source": [
    "подготовим данные"
   ]
  },
  {
   "cell_type": "code",
   "execution_count": 29,
   "id": "07c54a97",
   "metadata": {},
   "outputs": [],
   "source": [
    "churn.tenure = churn.tenure + 0.001 # чтобы не было нулевых месяцев. link function - логарифм, а логарифм от нулей брать нельзя\n",
    "churn.Churn = np.where(churn.Churn == 'Yes', 1, 0)\n",
    "churn.SeniorCitizen = np.where(churn.SeniorCitizen == 1, 'Yes', 'No')"
   ]
  },
  {
   "cell_type": "code",
   "execution_count": 30,
   "id": "70a9fe6e",
   "metadata": {},
   "outputs": [
    {
     "data": {
      "text/plain": [
       "<lifelines.WeibullAFTFitter: fitted with 7043 total observations, 5174 right-censored observations>"
      ]
     },
     "execution_count": 30,
     "metadata": {},
     "output_type": "execute_result"
    }
   ],
   "source": [
    "surv = lf.WeibullAFTFitter()\n",
    "\n",
    "surv.fit(df = churn, duration_col = 'tenure', event_col = 'Churn', \\\n",
    "         formula = 'C(SeniorCitizen) + C(Dependents) + MonthlyCharges + C(PaperlessBilling)')"
   ]
  },
  {
   "cell_type": "code",
   "execution_count": 31,
   "id": "ddb82222",
   "metadata": {},
   "outputs": [
    {
     "name": "stderr",
     "output_type": "stream",
     "text": [
      "C:\\Users\\mylen\\AppData\\Local\\Programs\\Python\\Python310\\lib\\site-packages\\lifelines\\utils\\printer.py:62: FutureWarning: In future versions `DataFrame.to_latex` is expected to utilise the base implementation of `Styler.to_latex` for formatting and rendering. The arguments signature may therefore change. It is recommended instead to use `DataFrame.style.to_latex` which also contains additional functionality.\n",
      "  return summary_df[columns].to_latex(float_format=\"%.\" + str(self.decimals) + \"f\")\n"
     ]
    },
    {
     "data": {
      "text/html": [
       "<div>\n",
       "<style scoped>\n",
       "    .dataframe tbody tr th:only-of-type {\n",
       "        vertical-align: middle;\n",
       "    }\n",
       "\n",
       "    .dataframe tbody tr th {\n",
       "        vertical-align: top;\n",
       "    }\n",
       "\n",
       "    .dataframe thead th {\n",
       "        text-align: right;\n",
       "    }\n",
       "</style>\n",
       "<table border=\"1\" class=\"dataframe\">\n",
       "  <tbody>\n",
       "    <tr>\n",
       "      <th>model</th>\n",
       "      <td>lifelines.WeibullAFTFitter</td>\n",
       "    </tr>\n",
       "    <tr>\n",
       "      <th>duration col</th>\n",
       "      <td>'tenure'</td>\n",
       "    </tr>\n",
       "    <tr>\n",
       "      <th>event col</th>\n",
       "      <td>'Churn'</td>\n",
       "    </tr>\n",
       "    <tr>\n",
       "      <th>number of observations</th>\n",
       "      <td>7043</td>\n",
       "    </tr>\n",
       "    <tr>\n",
       "      <th>number of events observed</th>\n",
       "      <td>1869</td>\n",
       "    </tr>\n",
       "    <tr>\n",
       "      <th>log-likelihood</th>\n",
       "      <td>-10355.96</td>\n",
       "    </tr>\n",
       "    <tr>\n",
       "      <th>time fit was run</th>\n",
       "      <td>2022-12-04 20:19:38 UTC</td>\n",
       "    </tr>\n",
       "  </tbody>\n",
       "</table>\n",
       "</div><table border=\"1\" class=\"dataframe\">\n",
       "  <thead>\n",
       "    <tr style=\"text-align: right;\">\n",
       "      <th style=\"min-width: 12px;\"></th>\n",
       "      <th style=\"min-width: 12px;\"></th>\n",
       "      <th style=\"min-width: 12px;\">coef</th>\n",
       "      <th style=\"min-width: 12px;\">exp(coef)</th>\n",
       "      <th style=\"min-width: 12px;\">se(coef)</th>\n",
       "      <th style=\"min-width: 12px;\">coef lower 95%</th>\n",
       "      <th style=\"min-width: 12px;\">coef upper 95%</th>\n",
       "      <th style=\"min-width: 12px;\">exp(coef) lower 95%</th>\n",
       "      <th style=\"min-width: 12px;\">exp(coef) upper 95%</th>\n",
       "      <th style=\"min-width: 12px;\">cmp to</th>\n",
       "      <th style=\"min-width: 12px;\">z</th>\n",
       "      <th style=\"min-width: 12px;\">p</th>\n",
       "      <th style=\"min-width: 12px;\">-log2(p)</th>\n",
       "    </tr>\n",
       "  </thead>\n",
       "  <tbody>\n",
       "    <tr>\n",
       "      <th rowspan=\"5\" valign=\"top\">lambda_</th>\n",
       "      <th>Intercept</th>\n",
       "      <td>5.84</td>\n",
       "      <td>344.19</td>\n",
       "      <td>0.12</td>\n",
       "      <td>5.61</td>\n",
       "      <td>6.08</td>\n",
       "      <td>272.31</td>\n",
       "      <td>435.03</td>\n",
       "      <td>0.00</td>\n",
       "      <td>48.88</td>\n",
       "      <td>&lt;0.005</td>\n",
       "      <td>inf</td>\n",
       "    </tr>\n",
       "    <tr>\n",
       "      <th>C(Dependents)[T.Yes]</th>\n",
       "      <td>1.21</td>\n",
       "      <td>3.34</td>\n",
       "      <td>0.10</td>\n",
       "      <td>1.02</td>\n",
       "      <td>1.40</td>\n",
       "      <td>2.76</td>\n",
       "      <td>4.05</td>\n",
       "      <td>0.00</td>\n",
       "      <td>12.38</td>\n",
       "      <td>&lt;0.005</td>\n",
       "      <td>114.48</td>\n",
       "    </tr>\n",
       "    <tr>\n",
       "      <th>C(PaperlessBilling)[T.Yes]</th>\n",
       "      <td>-0.91</td>\n",
       "      <td>0.40</td>\n",
       "      <td>0.09</td>\n",
       "      <td>-1.08</td>\n",
       "      <td>-0.74</td>\n",
       "      <td>0.34</td>\n",
       "      <td>0.48</td>\n",
       "      <td>0.00</td>\n",
       "      <td>-10.31</td>\n",
       "      <td>&lt;0.005</td>\n",
       "      <td>80.37</td>\n",
       "    </tr>\n",
       "    <tr>\n",
       "      <th>C(SeniorCitizen)[T.Yes]</th>\n",
       "      <td>-0.38</td>\n",
       "      <td>0.69</td>\n",
       "      <td>0.09</td>\n",
       "      <td>-0.54</td>\n",
       "      <td>-0.21</td>\n",
       "      <td>0.58</td>\n",
       "      <td>0.81</td>\n",
       "      <td>0.00</td>\n",
       "      <td>-4.44</td>\n",
       "      <td>&lt;0.005</td>\n",
       "      <td>16.75</td>\n",
       "    </tr>\n",
       "    <tr>\n",
       "      <th>MonthlyCharges</th>\n",
       "      <td>-0.00</td>\n",
       "      <td>1.00</td>\n",
       "      <td>0.00</td>\n",
       "      <td>-0.00</td>\n",
       "      <td>0.00</td>\n",
       "      <td>1.00</td>\n",
       "      <td>1.00</td>\n",
       "      <td>0.00</td>\n",
       "      <td>-0.85</td>\n",
       "      <td>0.39</td>\n",
       "      <td>1.35</td>\n",
       "    </tr>\n",
       "    <tr>\n",
       "      <th>rho_</th>\n",
       "      <th>Intercept</th>\n",
       "      <td>-0.43</td>\n",
       "      <td>0.65</td>\n",
       "      <td>0.02</td>\n",
       "      <td>-0.47</td>\n",
       "      <td>-0.39</td>\n",
       "      <td>0.63</td>\n",
       "      <td>0.68</td>\n",
       "      <td>0.00</td>\n",
       "      <td>-20.70</td>\n",
       "      <td>&lt;0.005</td>\n",
       "      <td>313.93</td>\n",
       "    </tr>\n",
       "  </tbody>\n",
       "</table><br><div>\n",
       "<style scoped>\n",
       "    .dataframe tbody tr th:only-of-type {\n",
       "        vertical-align: middle;\n",
       "    }\n",
       "\n",
       "    .dataframe tbody tr th {\n",
       "        vertical-align: top;\n",
       "    }\n",
       "\n",
       "    .dataframe thead th {\n",
       "        text-align: right;\n",
       "    }\n",
       "</style>\n",
       "<table border=\"1\" class=\"dataframe\">\n",
       "  <tbody>\n",
       "    <tr>\n",
       "      <th>Concordance</th>\n",
       "      <td>0.62</td>\n",
       "    </tr>\n",
       "    <tr>\n",
       "      <th>AIC</th>\n",
       "      <td>20723.91</td>\n",
       "    </tr>\n",
       "    <tr>\n",
       "      <th>log-likelihood ratio test</th>\n",
       "      <td>441.19 on 4 df</td>\n",
       "    </tr>\n",
       "    <tr>\n",
       "      <th>-log2(p) of ll-ratio test</th>\n",
       "      <td>310.46</td>\n",
       "    </tr>\n",
       "  </tbody>\n",
       "</table>\n",
       "</div>"
      ],
      "text/latex": [
       "\\begin{tabular}{llrrrrrrrrrrr}\n",
       "\\toprule\n",
       "     &           &  coef &  exp(coef) &  se(coef) &  coef lower 95\\% &  coef upper 95\\% &  exp(coef) lower 95\\% &  exp(coef) upper 95\\% &  cmp to &      z &    p &  -log2(p) \\\\\n",
       "param & covariate &       &            &           &                 &                 &                      &                      &         &        &      &           \\\\\n",
       "\\midrule\n",
       "lambda\\_ & Intercept &  5.84 &     344.19 &      0.12 &            5.61 &            6.08 &               272.31 &               435.03 &    0.00 &  48.88 & 0.00 &       inf \\\\\n",
       "     & C(Dependents)[T.Yes] &  1.21 &       3.34 &      0.10 &            1.02 &            1.40 &                 2.76 &                 4.05 &    0.00 &  12.38 & 0.00 &    114.48 \\\\\n",
       "     & C(PaperlessBilling)[T.Yes] & -0.91 &       0.40 &      0.09 &           -1.08 &           -0.74 &                 0.34 &                 0.48 &    0.00 & -10.31 & 0.00 &     80.37 \\\\\n",
       "     & C(SeniorCitizen)[T.Yes] & -0.38 &       0.69 &      0.09 &           -0.54 &           -0.21 &                 0.58 &                 0.81 &    0.00 &  -4.44 & 0.00 &     16.75 \\\\\n",
       "     & MonthlyCharges & -0.00 &       1.00 &      0.00 &           -0.00 &            0.00 &                 1.00 &                 1.00 &    0.00 &  -0.85 & 0.39 &      1.35 \\\\\n",
       "rho\\_ & Intercept & -0.43 &       0.65 &      0.02 &           -0.47 &           -0.39 &                 0.63 &                 0.68 &    0.00 & -20.70 & 0.00 &    313.93 \\\\\n",
       "\\bottomrule\n",
       "\\end{tabular}\n"
      ],
      "text/plain": [
       "<lifelines.WeibullAFTFitter: fitted with 7043 total observations, 5174 right-censored observations>\n",
       "             duration col = 'tenure'\n",
       "                event col = 'Churn'\n",
       "   number of observations = 7043\n",
       "number of events observed = 1869\n",
       "           log-likelihood = -10355.96\n",
       "         time fit was run = 2022-12-04 20:19:38 UTC\n",
       "\n",
       "---\n",
       "                                     coef  exp(coef)   se(coef)   coef lower 95%   coef upper 95%  exp(coef) lower 95%  exp(coef) upper 95%\n",
       "param   covariate                                                                                                                          \n",
       "lambda_ Intercept                    5.84     344.19       0.12             5.61             6.08               272.31               435.03\n",
       "        C(Dependents)[T.Yes]         1.21       3.34       0.10             1.02             1.40                 2.76                 4.05\n",
       "        C(PaperlessBilling)[T.Yes]  -0.91       0.40       0.09            -1.08            -0.74                 0.34                 0.48\n",
       "        C(SeniorCitizen)[T.Yes]     -0.38       0.69       0.09            -0.54            -0.21                 0.58                 0.81\n",
       "        MonthlyCharges              -0.00       1.00       0.00            -0.00             0.00                 1.00                 1.00\n",
       "rho_    Intercept                   -0.43       0.65       0.02            -0.47            -0.39                 0.63                 0.68\n",
       "\n",
       "                                     cmp to      z      p   -log2(p)\n",
       "param   covariate                                                   \n",
       "lambda_ Intercept                      0.00  48.88 <0.005        inf\n",
       "        C(Dependents)[T.Yes]           0.00  12.38 <0.005     114.48\n",
       "        C(PaperlessBilling)[T.Yes]     0.00 -10.31 <0.005      80.37\n",
       "        C(SeniorCitizen)[T.Yes]        0.00  -4.44 <0.005      16.75\n",
       "        MonthlyCharges                 0.00  -0.85   0.39       1.35\n",
       "rho_    Intercept                      0.00 -20.70 <0.005     313.93\n",
       "---\n",
       "Concordance = 0.62\n",
       "AIC = 20723.91\n",
       "log-likelihood ratio test = 441.19 on 4 df\n",
       "-log2(p) of ll-ratio test = 310.46"
      ]
     },
     "metadata": {},
     "output_type": "display_data"
    }
   ],
   "source": [
    "surv.print_summary()"
   ]
  },
  {
   "cell_type": "markdown",
   "id": "ac3bbf80",
   "metadata": {},
   "source": [
    "позитивные коэффициенты обозначают, что время до события замедлилось. отрицательные - время сократилось.\n",
    "\n",
    "* пожилые люди гораздо чаще уходят из компании (-0.91).\n",
    "* еще хуже (-0.91 < -0.38) влиет PaperlessBilling. те, у кого она подлючена, уходят раньше.\n",
    "* наличие иждивенцев сильно (1.21) влияет на продолжительность пользования.\n",
    "\n",
    "-log2(p) обозначает s-значения и нужно для потенциально более простой интерпретации.\n",
    "\n",
    "например, если -log2(p) = 1.35, то вероятность получить такие результаты равна вероятности подкинуть монетку 1 раз и получить решку. это очень вероятная ситуация. не удивительно, что соответствующее ему p-value такое больше (0.39)\n",
    "\n",
    "если -log2(p) = 16.75, то вероятность получить такие или более экстремальные ситуации соответствует вероятности в 17-ти подбросах монетки получить 17 решек.\n",
    "\n",
    "далее -log2(p) = 80.37 все менее и менее вероятны при справедливости нулевой гипотезы, а значит мы отклоняем нулевую гипотезу и делаем вывод о значимости результатов.\n"
   ]
  },
  {
   "cell_type": "markdown",
   "id": "b738e42f",
   "metadata": {},
   "source": [
    "# Summary"
   ]
  },
  {
   "cell_type": "markdown",
   "id": "397f2d0e",
   "metadata": {},
   "source": [
    "* если переменная из двух категорий - биномиальная регрессия\n",
    "* если категорий больше - мультиномиальная\n",
    "* в категориях есть явное убывание или нарастание - порядковая\n",
    "* считаем количество чего-то - Пуассоновская. если тут дисперсия больше среднего - отрицательно-биномиальная. слишком много нулей - zero-inflated-модель.\n",
    "* если у нас есть какое-то событие и время до него - анализ выживаемости."
   ]
  },
  {
   "cell_type": "markdown",
   "id": "e8dcef07",
   "metadata": {},
   "source": [
    "существуют GAM - generalized additive models\n",
    "ARIMA/(G)ARCH/PROPHET\n",
    "MIXED-EFFECTS"
   ]
  },
  {
   "cell_type": "markdown",
   "id": "4c2f0700",
   "metadata": {},
   "source": [
    "чем сложнее мы становимся, тем больше мы можем узнавать о том, как устроен этот мир"
   ]
  }
 ],
 "metadata": {
  "kernelspec": {
   "display_name": "Python 3",
   "language": "python",
   "name": "python3"
  },
  "language_info": {
   "codemirror_mode": {
    "name": "ipython",
    "version": 3
   },
   "file_extension": ".py",
   "mimetype": "text/x-python",
   "name": "python",
   "nbconvert_exporter": "python",
   "pygments_lexer": "ipython3",
   "version": "3.10.6"
  }
 },
 "nbformat": 4,
 "nbformat_minor": 5
}
